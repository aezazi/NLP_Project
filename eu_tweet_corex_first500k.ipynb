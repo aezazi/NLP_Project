{
 "cells": [
  {
   "cell_type": "code",
   "execution_count": 1,
   "id": "f9102f17-fe82-48c0-9a2b-bce5afd86eae",
   "metadata": {},
   "outputs": [],
   "source": [
    "%reset -fs\n",
    "import pandas as pd\n",
    "import numpy as np\n",
    "\n",
    "from sklearn.model_selection import train_test_split\n",
    "\n",
    "from sklearn.feature_extraction import text\n",
    "from sklearn.feature_extraction.text import CountVectorizer, TfidfVectorizer\n",
    "from sklearn.naive_bayes import MultinomialNB, GaussianNB\n",
    "from sklearn.decomposition import TruncatedSVD, NMF\n",
    "\n",
    "import re\n",
    "\n",
    "from corextopic import corextopic as ct"
   ]
  },
  {
   "cell_type": "code",
   "execution_count": 2,
   "id": "211e5e74-d85d-4db0-8068-8beab32863ec",
   "metadata": {},
   "outputs": [
    {
     "name": "stderr",
     "output_type": "stream",
     "text": [
      "/var/folders/gc/kgfpjt4x1d5c1thdk2sl_2hr0000gn/T/ipykernel_17220/3349357611.py:1: DtypeWarning: Columns (8) have mixed types. Specify dtype option on import or set low_memory=False.\n",
      "  df = pd.read_csv('eu_tweet_df_eda1.csv')\n"
     ]
    }
   ],
   "source": [
    "df = pd.read_csv('eu_tweet_df_eda1.csv')"
   ]
  },
  {
   "cell_type": "code",
   "execution_count": 15,
   "id": "491262a5-4258-4bcf-bed0-c5bd0f854212",
   "metadata": {
    "tags": []
   },
   "outputs": [
    {
     "data": {
      "text/html": [
       "<div>\n",
       "<style scoped>\n",
       "    .dataframe tbody tr th:only-of-type {\n",
       "        vertical-align: middle;\n",
       "    }\n",
       "\n",
       "    .dataframe tbody tr th {\n",
       "        vertical-align: top;\n",
       "    }\n",
       "\n",
       "    .dataframe thead th {\n",
       "        text-align: right;\n",
       "    }\n",
       "</style>\n",
       "<table border=\"1\" class=\"dataframe\">\n",
       "  <thead>\n",
       "    <tr style=\"text-align: right;\">\n",
       "      <th></th>\n",
       "      <th>id</th>\n",
       "      <th>created_at</th>\n",
       "      <th>text</th>\n",
       "      <th>user_name</th>\n",
       "      <th>user_screen_name</th>\n",
       "      <th>user_id</th>\n",
       "      <th>user_description</th>\n",
       "      <th>user_location</th>\n",
       "      <th>user_verified</th>\n",
       "      <th>lang</th>\n",
       "      <th>...</th>\n",
       "      <th>in_reply_to_user_id</th>\n",
       "      <th>retweet_count</th>\n",
       "      <th>retweet_id</th>\n",
       "      <th>retweet_screen_name</th>\n",
       "      <th>user_created_at</th>\n",
       "      <th>user_favourites_count</th>\n",
       "      <th>user_followers_count</th>\n",
       "      <th>user_friends_count</th>\n",
       "      <th>user_listed_count</th>\n",
       "      <th>user_statuses_count</th>\n",
       "    </tr>\n",
       "  </thead>\n",
       "  <tbody>\n",
       "    <tr>\n",
       "      <th>0</th>\n",
       "      <td>866239077045207040</td>\n",
       "      <td>Sun May 21 10:27:44 +0000 2017</td>\n",
       "      <td>pounding the streets of redland this morning w...</td>\n",
       "      <td>Green💚🌻Molly</td>\n",
       "      <td>GreenPartyMolly</td>\n",
       "      <td>726372601</td>\n",
       "      <td>Molly Scott Cato 👋 Green Party External Comms ...</td>\n",
       "      <td>South West</td>\n",
       "      <td>False</td>\n",
       "      <td>en</td>\n",
       "      <td>...</td>\n",
       "      <td>NaN</td>\n",
       "      <td>23.0</td>\n",
       "      <td>8.662375e+17</td>\n",
       "      <td>bristol_yg</td>\n",
       "      <td>Mon Jul 30 16:21:34 +0000 2012</td>\n",
       "      <td>27154.0</td>\n",
       "      <td>59652.0</td>\n",
       "      <td>1965.0</td>\n",
       "      <td>854.0</td>\n",
       "      <td>69671.0</td>\n",
       "    </tr>\n",
       "    <tr>\n",
       "      <th>1</th>\n",
       "      <td>866232717196840960</td>\n",
       "      <td>Sun May 21 10:02:28 +0000 2017</td>\n",
       "      <td>the ukip battle bus is coming please support m...</td>\n",
       "      <td>Dr Julia Reid PhD</td>\n",
       "      <td>julia_reid</td>\n",
       "      <td>43554444</td>\n",
       "      <td>Former Brexit Party MEP for the SW (2014-19) -...</td>\n",
       "      <td>Calne</td>\n",
       "      <td>True</td>\n",
       "      <td>en</td>\n",
       "      <td>...</td>\n",
       "      <td>NaN</td>\n",
       "      <td>38.0</td>\n",
       "      <td>8.662321e+17</td>\n",
       "      <td>DrTeckKhong</td>\n",
       "      <td>Sat May 30 16:46:20 +0000 2009</td>\n",
       "      <td>62208.0</td>\n",
       "      <td>4773.0</td>\n",
       "      <td>6282.0</td>\n",
       "      <td>242.0</td>\n",
       "      <td>139670.0</td>\n",
       "    </tr>\n",
       "    <tr>\n",
       "      <th>2</th>\n",
       "      <td>866236815463862272</td>\n",
       "      <td>Sun May 21 10:18:45 +0000 2017</td>\n",
       "      <td>yesterday was th european maritime day today i...</td>\n",
       "      <td>Catherine Bearder🇪🇺 🇺🇦🇺🇦🇪🇺🔶</td>\n",
       "      <td>catherinemep</td>\n",
       "      <td>454779231</td>\n",
       "      <td>Lib Dem. Board of IFAW and Council of Unlock D...</td>\n",
       "      <td>Oxford</td>\n",
       "      <td>True</td>\n",
       "      <td>en</td>\n",
       "      <td>...</td>\n",
       "      <td>NaN</td>\n",
       "      <td>21.0</td>\n",
       "      <td>8.662204e+17</td>\n",
       "      <td>EU_MARE</td>\n",
       "      <td>Wed Jan 04 11:13:08 +0000 2012</td>\n",
       "      <td>2705.0</td>\n",
       "      <td>32987.0</td>\n",
       "      <td>9121.0</td>\n",
       "      <td>677.0</td>\n",
       "      <td>36328.0</td>\n",
       "    </tr>\n",
       "    <tr>\n",
       "      <th>3</th>\n",
       "      <td>866236868404314112</td>\n",
       "      <td>Sun May 21 10:18:57 +0000 2017</td>\n",
       "      <td>thesnp depute leader and candidate for moray a...</td>\n",
       "      <td>Ian Hudghton</td>\n",
       "      <td>HudghtonSNP</td>\n",
       "      <td>308677137</td>\n",
       "      <td>SNP President 2005 - 2020. SNP Member of the E...</td>\n",
       "      <td>Scotland</td>\n",
       "      <td>False</td>\n",
       "      <td>en</td>\n",
       "      <td>...</td>\n",
       "      <td>NaN</td>\n",
       "      <td>6.0</td>\n",
       "      <td>8.662227e+17</td>\n",
       "      <td>erikgeddes</td>\n",
       "      <td>Tue May 31 20:22:38 +0000 2011</td>\n",
       "      <td>21.0</td>\n",
       "      <td>5044.0</td>\n",
       "      <td>398.0</td>\n",
       "      <td>205.0</td>\n",
       "      <td>1789.0</td>\n",
       "    </tr>\n",
       "    <tr>\n",
       "      <th>4</th>\n",
       "      <td>866233710714257408</td>\n",
       "      <td>Sun May 21 10:06:25 +0000 2017</td>\n",
       "      <td>cacophonic that and fox hunting and dementia t...</td>\n",
       "      <td>Catherine Bearder🇪🇺 🇺🇦🇺🇦🇪🇺🔶</td>\n",
       "      <td>catherinemep</td>\n",
       "      <td>454779231</td>\n",
       "      <td>Lib Dem. Board of IFAW and Council of Unlock D...</td>\n",
       "      <td>Oxford</td>\n",
       "      <td>True</td>\n",
       "      <td>en</td>\n",
       "      <td>...</td>\n",
       "      <td>25067514.0</td>\n",
       "      <td>0.0</td>\n",
       "      <td>NaN</td>\n",
       "      <td>NaN</td>\n",
       "      <td>Wed Jan 04 11:13:08 +0000 2012</td>\n",
       "      <td>2705.0</td>\n",
       "      <td>32987.0</td>\n",
       "      <td>9121.0</td>\n",
       "      <td>677.0</td>\n",
       "      <td>36328.0</td>\n",
       "    </tr>\n",
       "  </tbody>\n",
       "</table>\n",
       "<p>5 rows × 25 columns</p>\n",
       "</div>"
      ],
      "text/plain": [
       "                   id                      created_at  \\\n",
       "0  866239077045207040  Sun May 21 10:27:44 +0000 2017   \n",
       "1  866232717196840960  Sun May 21 10:02:28 +0000 2017   \n",
       "2  866236815463862272  Sun May 21 10:18:45 +0000 2017   \n",
       "3  866236868404314112  Sun May 21 10:18:57 +0000 2017   \n",
       "4  866233710714257408  Sun May 21 10:06:25 +0000 2017   \n",
       "\n",
       "                                                text  \\\n",
       "0  pounding the streets of redland this morning w...   \n",
       "1  the ukip battle bus is coming please support m...   \n",
       "2  yesterday was th european maritime day today i...   \n",
       "3  thesnp depute leader and candidate for moray a...   \n",
       "4  cacophonic that and fox hunting and dementia t...   \n",
       "\n",
       "                     user_name user_screen_name    user_id  \\\n",
       "0                 Green💚🌻Molly  GreenPartyMolly  726372601   \n",
       "1            Dr Julia Reid PhD       julia_reid   43554444   \n",
       "2  Catherine Bearder🇪🇺 🇺🇦🇺🇦🇪🇺🔶     catherinemep  454779231   \n",
       "3                 Ian Hudghton      HudghtonSNP  308677137   \n",
       "4  Catherine Bearder🇪🇺 🇺🇦🇺🇦🇪🇺🔶     catherinemep  454779231   \n",
       "\n",
       "                                    user_description user_location  \\\n",
       "0  Molly Scott Cato 👋 Green Party External Comms ...    South West   \n",
       "1  Former Brexit Party MEP for the SW (2014-19) -...         Calne   \n",
       "2  Lib Dem. Board of IFAW and Council of Unlock D...        Oxford   \n",
       "3  SNP President 2005 - 2020. SNP Member of the E...      Scotland   \n",
       "4  Lib Dem. Board of IFAW and Council of Unlock D...        Oxford   \n",
       "\n",
       "  user_verified lang  ... in_reply_to_user_id retweet_count    retweet_id  \\\n",
       "0         False   en  ...                 NaN          23.0  8.662375e+17   \n",
       "1          True   en  ...                 NaN          38.0  8.662321e+17   \n",
       "2          True   en  ...                 NaN          21.0  8.662204e+17   \n",
       "3         False   en  ...                 NaN           6.0  8.662227e+17   \n",
       "4          True   en  ...          25067514.0           0.0           NaN   \n",
       "\n",
       "  retweet_screen_name                 user_created_at  user_favourites_count  \\\n",
       "0          bristol_yg  Mon Jul 30 16:21:34 +0000 2012                27154.0   \n",
       "1         DrTeckKhong  Sat May 30 16:46:20 +0000 2009                62208.0   \n",
       "2             EU_MARE  Wed Jan 04 11:13:08 +0000 2012                 2705.0   \n",
       "3          erikgeddes  Tue May 31 20:22:38 +0000 2011                   21.0   \n",
       "4                 NaN  Wed Jan 04 11:13:08 +0000 2012                 2705.0   \n",
       "\n",
       "   user_followers_count  user_friends_count user_listed_count  \\\n",
       "0               59652.0              1965.0             854.0   \n",
       "1                4773.0              6282.0             242.0   \n",
       "2               32987.0              9121.0             677.0   \n",
       "3                5044.0               398.0             205.0   \n",
       "4               32987.0              9121.0             677.0   \n",
       "\n",
       "  user_statuses_count  \n",
       "0             69671.0  \n",
       "1            139670.0  \n",
       "2             36328.0  \n",
       "3              1789.0  \n",
       "4             36328.0  \n",
       "\n",
       "[5 rows x 25 columns]"
      ]
     },
     "execution_count": 15,
     "metadata": {},
     "output_type": "execute_result"
    }
   ],
   "source": [
    "df.head()"
   ]
  },
  {
   "cell_type": "code",
   "execution_count": null,
   "id": "4c3891ab-8010-4d03-9ec0-30e48543394e",
   "metadata": {},
   "outputs": [],
   "source": []
  },
  {
   "cell_type": "code",
   "execution_count": 4,
   "id": "b65bd8e3-e0f0-4ec8-82cb-3a0eb1d58e05",
   "metadata": {},
   "outputs": [
    {
     "data": {
      "text/plain": [
       "'i am testing alex  than x   '"
      ]
     },
     "execution_count": 4,
     "metadata": {},
     "output_type": "execute_result"
    }
   ],
   "source": [
    "def strip_punc_lower_http(txt):\n",
    "    txt = re.sub(r'''(?i)\\b((?:https?://|www\\d{0,3}[.]|[a-z0-9.\\-]+[.][a-z]{2,4}/)(?:[^\\s()<>]+|\\(([^\\s()<>]+|(\\([^\\s()<>]+\\)))*\\))+(?:\\(([^\\s()<>]+|(\\([^\\s()<>]+\\)))*\\)|[^\\s`!()\\[\\]{};:'\".,<>?«»“”‘’]))''', \" \", txt)\n",
    "\n",
    "    txt = re.sub(pattern= \"[^\\w\\s]\",\n",
    "            repl=\"\",\n",
    "            string=txt).lower()\n",
    "    \n",
    "    txt = re.sub(pattern= \"[0-9]\",\n",
    "            repl=\"\",\n",
    "            string=txt)\n",
    "    \n",
    "    return txt\n",
    "strip_punc_lower_http('I am, testing #ALEX > than X 10. https://scikit-learn.org/stable/modules/generated/sklearn.feature_extraction.text.TfidfVectorizer.html')"
   ]
  },
  {
   "cell_type": "code",
   "execution_count": 5,
   "id": "b54f8e39-7a64-483c-ad65-a40359db01a7",
   "metadata": {},
   "outputs": [],
   "source": [
    "df['text'] = df['text'].apply(lambda x: strip_punc_lower_http(x))"
   ]
  },
  {
   "cell_type": "code",
   "execution_count": 6,
   "id": "7e92be39-ff95-4a32-b909-d49b85a39c0a",
   "metadata": {},
   "outputs": [
    {
     "data": {
      "text/plain": [
       "0    pounding the streets of redland this morning w...\n",
       "1    the ukip battle bus is coming please support m...\n",
       "2    yesterday was th european maritime day today i...\n",
       "3    thesnp depute leader and candidate for moray a...\n",
       "4    cacophonic that and fox hunting and dementia t...\n",
       "Name: text, dtype: object"
      ]
     },
     "execution_count": 6,
     "metadata": {},
     "output_type": "execute_result"
    }
   ],
   "source": [
    "df['text'].head()"
   ]
  },
  {
   "cell_type": "code",
   "execution_count": 7,
   "id": "173e0226-0659-4d0b-a450-ccce92179e7f",
   "metadata": {},
   "outputs": [],
   "source": [
    "df_0_500k = df.loc[:500000,['id', 'created_at', 'text']].copy()"
   ]
  },
  {
   "cell_type": "code",
   "execution_count": 8,
   "id": "85f38882-8490-4922-b6ad-082c6d7b8dcd",
   "metadata": {},
   "outputs": [
    {
     "data": {
      "text/html": [
       "<div>\n",
       "<style scoped>\n",
       "    .dataframe tbody tr th:only-of-type {\n",
       "        vertical-align: middle;\n",
       "    }\n",
       "\n",
       "    .dataframe tbody tr th {\n",
       "        vertical-align: top;\n",
       "    }\n",
       "\n",
       "    .dataframe thead th {\n",
       "        text-align: right;\n",
       "    }\n",
       "</style>\n",
       "<table border=\"1\" class=\"dataframe\">\n",
       "  <thead>\n",
       "    <tr style=\"text-align: right;\">\n",
       "      <th></th>\n",
       "      <th>id</th>\n",
       "      <th>created_at</th>\n",
       "      <th>text</th>\n",
       "    </tr>\n",
       "  </thead>\n",
       "  <tbody>\n",
       "    <tr>\n",
       "      <th>0</th>\n",
       "      <td>866239077045207040</td>\n",
       "      <td>Sun May 21 10:27:44 +0000 2017</td>\n",
       "      <td>pounding the streets of redland this morning w...</td>\n",
       "    </tr>\n",
       "    <tr>\n",
       "      <th>1</th>\n",
       "      <td>866232717196840960</td>\n",
       "      <td>Sun May 21 10:02:28 +0000 2017</td>\n",
       "      <td>the ukip battle bus is coming please support m...</td>\n",
       "    </tr>\n",
       "    <tr>\n",
       "      <th>2</th>\n",
       "      <td>866236815463862272</td>\n",
       "      <td>Sun May 21 10:18:45 +0000 2017</td>\n",
       "      <td>yesterday was th european maritime day today i...</td>\n",
       "    </tr>\n",
       "    <tr>\n",
       "      <th>3</th>\n",
       "      <td>866236868404314112</td>\n",
       "      <td>Sun May 21 10:18:57 +0000 2017</td>\n",
       "      <td>thesnp depute leader and candidate for moray a...</td>\n",
       "    </tr>\n",
       "    <tr>\n",
       "      <th>4</th>\n",
       "      <td>866233710714257408</td>\n",
       "      <td>Sun May 21 10:06:25 +0000 2017</td>\n",
       "      <td>cacophonic that and fox hunting and dementia t...</td>\n",
       "    </tr>\n",
       "    <tr>\n",
       "      <th>...</th>\n",
       "      <td>...</td>\n",
       "      <td>...</td>\n",
       "      <td>...</td>\n",
       "    </tr>\n",
       "    <tr>\n",
       "      <th>499996</th>\n",
       "      <td>959491023046049792</td>\n",
       "      <td>Fri Feb 02 18:17:41 +0000 2018</td>\n",
       "      <td>united states congressman rephuffman took time...</td>\n",
       "    </tr>\n",
       "    <tr>\n",
       "      <th>499997</th>\n",
       "      <td>959490706606829568</td>\n",
       "      <td>Fri Feb 02 18:16:25 +0000 2018</td>\n",
       "      <td>were lifting the  public sector pay cap  mean...</td>\n",
       "    </tr>\n",
       "    <tr>\n",
       "      <th>499998</th>\n",
       "      <td>959491686048071680</td>\n",
       "      <td>Fri Feb 02 18:20:19 +0000 2018</td>\n",
       "      <td>a winter scene in the yorkshiredales this morn...</td>\n",
       "    </tr>\n",
       "    <tr>\n",
       "      <th>499999</th>\n",
       "      <td>959490755168555008</td>\n",
       "      <td>Fri Feb 02 18:16:37 +0000 2018</td>\n",
       "      <td>russia interfered in the  election\\nrussia wil...</td>\n",
       "    </tr>\n",
       "    <tr>\n",
       "      <th>500000</th>\n",
       "      <td>959489245676277760</td>\n",
       "      <td>Fri Feb 02 18:10:37 +0000 2018</td>\n",
       "      <td>jfostermep numbergov great and all whilst stil...</td>\n",
       "    </tr>\n",
       "  </tbody>\n",
       "</table>\n",
       "<p>500001 rows × 3 columns</p>\n",
       "</div>"
      ],
      "text/plain": [
       "                        id                      created_at  \\\n",
       "0       866239077045207040  Sun May 21 10:27:44 +0000 2017   \n",
       "1       866232717196840960  Sun May 21 10:02:28 +0000 2017   \n",
       "2       866236815463862272  Sun May 21 10:18:45 +0000 2017   \n",
       "3       866236868404314112  Sun May 21 10:18:57 +0000 2017   \n",
       "4       866233710714257408  Sun May 21 10:06:25 +0000 2017   \n",
       "...                    ...                             ...   \n",
       "499996  959491023046049792  Fri Feb 02 18:17:41 +0000 2018   \n",
       "499997  959490706606829568  Fri Feb 02 18:16:25 +0000 2018   \n",
       "499998  959491686048071680  Fri Feb 02 18:20:19 +0000 2018   \n",
       "499999  959490755168555008  Fri Feb 02 18:16:37 +0000 2018   \n",
       "500000  959489245676277760  Fri Feb 02 18:10:37 +0000 2018   \n",
       "\n",
       "                                                     text  \n",
       "0       pounding the streets of redland this morning w...  \n",
       "1       the ukip battle bus is coming please support m...  \n",
       "2       yesterday was th european maritime day today i...  \n",
       "3       thesnp depute leader and candidate for moray a...  \n",
       "4       cacophonic that and fox hunting and dementia t...  \n",
       "...                                                   ...  \n",
       "499996  united states congressman rephuffman took time...  \n",
       "499997   were lifting the  public sector pay cap  mean...  \n",
       "499998  a winter scene in the yorkshiredales this morn...  \n",
       "499999  russia interfered in the  election\\nrussia wil...  \n",
       "500000  jfostermep numbergov great and all whilst stil...  \n",
       "\n",
       "[500001 rows x 3 columns]"
      ]
     },
     "execution_count": 8,
     "metadata": {},
     "output_type": "execute_result"
    }
   ],
   "source": [
    "df_0_500k"
   ]
  },
  {
   "cell_type": "code",
   "execution_count": 9,
   "id": "9f3ee2bb-7019-4453-82d7-d72d00679342",
   "metadata": {},
   "outputs": [],
   "source": [
    "df_0_500k.to_csv('eu_first500_clean.csv', index = False)"
   ]
  },
  {
   "cell_type": "code",
   "execution_count": 10,
   "id": "9370ced4-b287-4459-ba15-f1160f105323",
   "metadata": {},
   "outputs": [],
   "source": [
    "my_stop_words = ['wonderful', 'did', 'didnt', 'issue', 'issues', 'actually', 'id','th',\n",
    "                'community']"
   ]
  },
  {
   "cell_type": "code",
   "execution_count": 11,
   "id": "32b1c9b2-b2d1-4bb3-be48-234e75efe27b",
   "metadata": {},
   "outputs": [],
   "source": [
    "my_stop_words = text.ENGLISH_STOP_WORDS.union(my_stop_words)"
   ]
  },
  {
   "cell_type": "code",
   "execution_count": 12,
   "id": "f3cb65dc-4b64-4df8-85e9-502ca25eb54c",
   "metadata": {},
   "outputs": [],
   "source": [
    "tv_30docs = TfidfVectorizer(stop_words = my_stop_words, min_df=30)\n",
    "dtm_tv_30docs = tv_30docs.fit_transform(list(df_0_500k['text']))"
   ]
  },
  {
   "cell_type": "code",
   "execution_count": 16,
   "id": "2e4ce9d1-faf0-4f08-9fac-ab6bb9b165a9",
   "metadata": {},
   "outputs": [
    {
     "data": {
      "text/plain": [
       "(500001, 16604)"
      ]
     },
     "execution_count": 16,
     "metadata": {},
     "output_type": "execute_result"
    }
   ],
   "source": [
    "dtm_tv_30docs.shape"
   ]
  },
  {
   "cell_type": "code",
   "execution_count": 17,
   "id": "37ad67ee-5edd-4f32-94ca-e89db26a807c",
   "metadata": {},
   "outputs": [],
   "source": [
    "words_30 = list(np.asarray(tv_30docs.get_feature_names_out()))"
   ]
  },
  {
   "cell_type": "code",
   "execution_count": null,
   "id": "75740d83-0a8d-498f-9af3-f06c70c4e970",
   "metadata": {},
   "outputs": [],
   "source": []
  },
  {
   "cell_type": "code",
   "execution_count": 27,
   "id": "ce71dec7-e945-49f2-aae7-e069217736fe",
   "metadata": {},
   "outputs": [
    {
     "data": {
      "text/plain": [
       "<corextopic.corextopic.Corex at 0x7fb520f145b0>"
      ]
     },
     "execution_count": 27,
     "metadata": {},
     "output_type": "execute_result"
    }
   ],
   "source": [
    "corex_model = ct.Corex(n_hidden=  50, ### YOUR NUMBER OF TOPICS HERE\n",
    "                       words=   words_30,   ### YOUR VOCABULARY HERE\n",
    "                       seed=1\n",
    "                       )\n",
    "\n",
    "corex_model.fit(dtm_tv_30docs,       ### YOUR DOCUMENT TERM MATRIX HERE\n",
    "                words= words_30   , ### YOUR VOCABULARY HERE\n",
    "                docs= df_0_500k['text']     ### YOUR DOCUMENT SERIES HERE\n",
    "                )"
   ]
  },
  {
   "cell_type": "code",
   "execution_count": 28,
   "id": "f8a0686f-315d-44d9-af00-3dcafc07c7d6",
   "metadata": {},
   "outputs": [
    {
     "name": "stdout",
     "output_type": "stream",
     "text": [
      "0: americans, tax, senate, gop, congress, families, republicans, trumpcare, dreamers, bipartisan\n",
      "1: yellabelly, pilgrim, jamieb, stevemelady, bikerrebel, bostonpoliceuk, bostonboro, inspmorrice, lincsts, maddisongm\n",
      "2: quintonlabour, harbornelabour, edgbastonclp, birminghammail, amansfield, uhbcomms, birminghampost, swbhnhs, jacqui_smith, daninmich\n",
      "3: acres, contained, hwy, sonoma, napa, southernlnucomplex, clearlake, sulphurfire, nunsfire, lospadresnf\n",
      "4: defiaye, tlscadden, yoorwullie, plug, power, primarily, referenced, relating, repeated, rewarded\n",
      "5: sistercrow, _mattresssale, publicly, protectors, prolonged, prejudice, possibility, pump, plane, opposite\n",
      "6: baldwin, medal, mick, needing, organized, outoftouch, partial, pens, pillars, pmakela\n",
      "7: armistice, neglected, negligence, powerful, rec, remembers, semester, shares, spoke, stakes\n",
      "8: abraham, principle, quietly, rage, receives, refuses, relative, seize, sheriffs, shoe\n",
      "9: adopting, observed, opponent, outdoor, pages, proposing, prosecute, prosperity, rang, rationing\n",
      "10: acknowledges, kim, lethal, low, manning, married, meaningless, mistreatment, monopolies, murray\n",
      "11: admiration, mega, misplaced, motives, necessity, oppressive, oprah, outdoors, pesticides, plague\n",
      "12: ab, ignore, indication, inevitably, insane, liberate, militias, objectives, pale, peddling\n",
      "13: abbas, interviews, kidnapped, killer, krg, legalaid, lightly, lindsay, obstacles, offenders\n",
      "14: achieves, hypocritical, ideology, inbox, incl, insulted, landowners, monoxide, norton, outs\n",
      "15: aaron, large, offender, painful, palm, politas, pontifex, pragmatic, rationale, ratko\n",
      "16: admitting, pipelines, proceeding, profit, reconstruction, retiring, return, sales, slipping, stack\n",
      "17: abused, kathleen, knee, lawrence, learned, louis, maintained, missiles, motivated, motto\n",
      "18: advanced, magnitude, mapping, med, microsoft, moderated, mr, neighbor, option, partnering\n",
      "19: apple, peek, pending, publichealth, rds, renewable, resign, resolved, restart, restored\n",
      "20: abe, margin, mounting, notion, personal, prediction, questionable, rampd, refused, religion\n",
      "21: accidents, frequent, generates, gust, handle, identification, investigating, kept, kiss, label\n",
      "22: activate, lv, mater, measures, mold, msg, neutral, packs, perverse, pivotal\n",
      "23: abuse, messing, methods, norm, org, owner, pricing, props, ralph, reap\n",
      "24: acknowledging, payers, pine, poisonous, pose, projections, prosecutors, protestors, purposes, quitting\n",
      "25: abide, insulting, jp, mantra, merely, mic, mines, offended, opponents, participated\n",
      "26: advisor, living, moratorium, mountain, nelson, newest, nuts, offensive, overcome, overseeing\n",
      "27: actors, hint, identities, illustrates, imminent, investigates, islamist, judgment, justification, luther\n",
      "28: abysmal, prosecuted, procedures, pas, paramedics, outpatient, outlaw, prosecutor, mustread, merits\n",
      "29: accelerated, routinely, resource, reinforces, reactions, ramp, qualify, sachs, privately, persuaded\n",
      "30: appreciation, missing, orgs, paris, parsons, pen, pensions, philosophy, prospects, questioned\n",
      "31: accuracy, optional, prosecution, rallying, restructuring, retire, rod, searched, shaken, shot\n",
      "32: absurd, rallies, preventable, precision, portion, polluted, plaza, nonexistent, netflix, murders\n",
      "33: abroad, pathways, patriotism, patrol, petty, preach, precautions, prop, purchases, ranks\n",
      "34: accidentally, past, peshmerga, premature, professionalism, profitable, proves, receipts, reinstated, reservoir\n",
      "35: suu, kyi, aung, modest, mtg, negligent, occupational, pd, peril, pointless\n",
      "36: alleviate, murderer, northbayfires, obsessed, parent, persecution, planned, plate, pleading, priceless\n",
      "37: accusations, grief, incapable, incumbent, indefinitely, involving, jefferson, jerusalem, likelihood, medicine\n",
      "38: abusive, outlined, okay, notify, notification, morale, momentous, peacekeeping, lobbyist, larry\n",
      "39: ak, mislead, mornings, packages, perseverance, persist, propping, psalm, recommends, shorten\n",
      "40: abandoned, momostjohn, monopoly, nominating, notified, operations, optimistic, overly, parks, preview\n",
      "41: agreement, ms, multinationals, neglect, nepal, oppression, overcoming, potentially, problematic, reinforcing\n",
      "42: acceptance, liberals, maintaining, mute, onpoli, openness, orientation, pile, rampant, reaffirming\n",
      "43: advisors, screw, reviewing, records, publics, principles, predicts, planets, shortfall, pakistan\n",
      "44: abundance, helm, illegitimate, lays, malnutrition, manufacture, mystery, noon, paramount, patient\n",
      "45: abcnews, mkt, monitor, notably, oppressed, owning, physical, pieces, preschool, presiding\n",
      "46: approaching, perry, poorest, postcards, prepares, punished, purpose, pursued, rabbi, reflects\n",
      "47: accordance, percentage, policymakers, price, pumped, ran, rapid, repatriation, reserve, resolute\n",
      "48: abilities, operating, ordering, outreach, posed, positively, preference, principled, regimes, remedy\n",
      "49: accordingly, majestic, militants, murderers, neveragain, outbreak, paving, philippines, press, product\n"
     ]
    }
   ],
   "source": [
    "topics = corex_model.get_topics()\n",
    "for n,topic in enumerate(topics):\n",
    "    topic_words,_,_ = zip(*topic)\n",
    "    print(f'{n}: {\", \".join(topic_words)}')"
   ]
  },
  {
   "cell_type": "code",
   "execution_count": 105,
   "id": "a2f27ce4-954d-45aa-a561-46b0a48a8947",
   "metadata": {},
   "outputs": [
    {
     "data": {
      "text/plain": [
       "0.047930982517287404"
      ]
     },
     "execution_count": 105,
     "metadata": {},
     "output_type": "execute_result"
    }
   ],
   "source": [
    "corex_model.tc"
   ]
  },
  {
   "cell_type": "code",
   "execution_count": null,
   "id": "9b8badaf-4c04-4a39-8baf-6ece3d476953",
   "metadata": {},
   "outputs": [],
   "source": []
  },
  {
   "cell_type": "code",
   "execution_count": 108,
   "id": "bb0ffc65-7f1a-48d3-ba47-98920290bec8",
   "metadata": {},
   "outputs": [],
   "source": []
  },
  {
   "cell_type": "code",
   "execution_count": 109,
   "id": "d18c42a1-ae49-49a4-a62f-e6f004b7eecf",
   "metadata": {},
   "outputs": [
    {
     "data": {
      "text/plain": [
       "(500001, 16604)"
      ]
     },
     "execution_count": 109,
     "metadata": {},
     "output_type": "execute_result"
    }
   ],
   "source": []
  },
  {
   "cell_type": "code",
   "execution_count": 74,
   "id": "c70d1230-7709-4922-b9a6-2686ec34d3f0",
   "metadata": {},
   "outputs": [],
   "source": [
    "words_30_semi = list(np.asarray(tv_30docs.get_feature_names_out()))"
   ]
  },
  {
   "cell_type": "code",
   "execution_count": null,
   "id": "74715d55-5896-4730-b717-6f4899a10a26",
   "metadata": {},
   "outputs": [],
   "source": []
  },
  {
   "cell_type": "code",
   "execution_count": 18,
   "id": "d0422d6d-ec7a-49f2-9e05-93617ba0309f",
   "metadata": {},
   "outputs": [
    {
     "data": {
      "text/plain": [
       "<corextopic.corextopic.Corex at 0x7fb520f140d0>"
      ]
     },
     "execution_count": 18,
     "metadata": {},
     "output_type": "execute_result"
    }
   ],
   "source": [
    "anchor_words =[\n",
    "                ['immigration', 'immigrant'],\n",
    "                ['christian', 'hindu', 'muslim', 'jewish', 'religion'],\n",
    "                ['trump'],\n",
    "                ['brexit', 'eu', 'leave'],\n",
    "                ['women','violence', 'rights'],\n",
    "                ['health', 'care','insurance', 'mental'],\n",
    "                ['climate', 'change'],\n",
    "                ['jobs', 'economy', 'business']\n",
    "                ]\n",
    "\n",
    "\n",
    "\n",
    "\n",
    "corex_semi = ct.Corex(n_hidden= 8, ### YOUR NUMBER OF TOPICS HERE\n",
    "                       words=   words_30,   ### YOUR VOCABULARY HERE\n",
    "                       seed=1\n",
    "                       )\n",
    "\n",
    "corex_semi.fit(dtm_tv_30docs,       ### YOUR DOCUMENT TERM MATRIX HERE\n",
    "                words= words_30   , ### YOUR VOCABULARY HERE\n",
    "                docs= df_0_500k['text'],\n",
    "                anchors=anchor_words,\n",
    "                anchor_strength = 3\n",
    "                )"
   ]
  },
  {
   "cell_type": "code",
   "execution_count": 19,
   "id": "e9a6774d-81f0-4e4a-9b1a-a339e6f48f65",
   "metadata": {},
   "outputs": [
    {
     "name": "stdout",
     "output_type": "stream",
     "text": [
      "0: immigrant, quintonlabour, harbornelabour, edgbastonclp, birminghammail, amansfield, uhbcomms, birminghampost, swbhnhs, jacqui_smith\n",
      "1: muslim, jewish, christian, religion, yellabelly, pilgrim, jamieb, hindu, stevemelady, bikerrebel\n",
      "2: daninmich, tuffelhund, sumasteven, functions, interpret, roundup, pas, penalties, perceptions, pioneers\n",
      "3: eu, brexit, leave, uk, trade, deal, customs, european, union, negotiations\n",
      "4: violence, victims, prayers, thoughts, vegas, las, attack, women, praying, horrific\n",
      "5: health, care, mental, insurance, tax, trumpcare, medicaid, americans, gop, premiums\n",
      "6: climate, change, cop, paris, parisagreement, accord, actonclimate, bonn, deniers, emissions\n",
      "7: acted, oligarchs, optout, org, overcoming, overreach, overseeing, ozone, paperwork, patent\n"
     ]
    }
   ],
   "source": [
    "topics_semi = corex_semi.get_topics()\n",
    "for n,topic in enumerate(topics_semi):\n",
    "    topic_words,_,_ = zip(*topic)\n",
    "    print(f'{n}: {\", \".join(topic_words)}')"
   ]
  },
  {
   "cell_type": "code",
   "execution_count": 31,
   "id": "19dc7310-f8bf-4c2c-b14f-cd8060c7275e",
   "metadata": {},
   "outputs": [
    {
     "name": "stdout",
     "output_type": "stream",
     "text": [
      "Print topics in text file\n"
     ]
    }
   ],
   "source": [
    "from corextopic import vis_topic as vt\n",
    "vt.vis_rep(corex_semi, column_label=words, prefix='topic-model-example')"
   ]
  },
  {
   "cell_type": "code",
   "execution_count": 22,
   "id": "9d342206-bb5d-49fa-87ca-c62af830e13b",
   "metadata": {},
   "outputs": [
    {
     "data": {
      "text/plain": [
       "0.06505907678849725"
      ]
     },
     "execution_count": 22,
     "metadata": {},
     "output_type": "execute_result"
    }
   ],
   "source": [
    "(corex_semi.tc\n",
    ")"
   ]
  },
  {
   "cell_type": "code",
   "execution_count": null,
   "id": "43ae2e9c-9ef9-4bca-b442-1332a9131033",
   "metadata": {},
   "outputs": [],
   "source": []
  }
 ],
 "metadata": {
  "kernelspec": {
   "display_name": "Python 3 (ipykernel)",
   "language": "python",
   "name": "python3"
  },
  "language_info": {
   "codemirror_mode": {
    "name": "ipython",
    "version": 3
   },
   "file_extension": ".py",
   "mimetype": "text/x-python",
   "name": "python",
   "nbconvert_exporter": "python",
   "pygments_lexer": "ipython3",
   "version": "3.8.13"
  }
 },
 "nbformat": 4,
 "nbformat_minor": 5
}
