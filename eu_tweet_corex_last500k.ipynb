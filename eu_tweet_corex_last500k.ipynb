{
 "cells": [
  {
   "cell_type": "code",
   "execution_count": 2,
   "id": "f9102f17-fe82-48c0-9a2b-bce5afd86eae",
   "metadata": {},
   "outputs": [],
   "source": [
    "%reset -fs\n",
    "import pandas as pd\n",
    "import numpy as np\n",
    "\n",
    "from sklearn.model_selection import train_test_split\n",
    "\n",
    "from sklearn.feature_extraction import text\n",
    "from sklearn.feature_extraction.text import CountVectorizer, TfidfVectorizer\n",
    "from sklearn.naive_bayes import MultinomialNB, GaussianNB\n",
    "from sklearn.decomposition import TruncatedSVD, NMF\n",
    "\n",
    "import re\n",
    "\n",
    "from corextopic import corextopic as ct"
   ]
  },
  {
   "cell_type": "code",
   "execution_count": 3,
   "id": "211e5e74-d85d-4db0-8068-8beab32863ec",
   "metadata": {},
   "outputs": [
    {
     "name": "stderr",
     "output_type": "stream",
     "text": [
      "/var/folders/gc/kgfpjt4x1d5c1thdk2sl_2hr0000gn/T/ipykernel_16079/3349357611.py:1: DtypeWarning: Columns (8) have mixed types. Specify dtype option on import or set low_memory=False.\n",
      "  df = pd.read_csv('eu_tweet_df_eda1.csv')\n"
     ]
    }
   ],
   "source": [
    "df = pd.read_csv('eu_tweet_df_eda1.csv')"
   ]
  },
  {
   "cell_type": "code",
   "execution_count": 4,
   "id": "491262a5-4258-4bcf-bed0-c5bd0f854212",
   "metadata": {
    "tags": []
   },
   "outputs": [
    {
     "data": {
      "text/html": [
       "<div>\n",
       "<style scoped>\n",
       "    .dataframe tbody tr th:only-of-type {\n",
       "        vertical-align: middle;\n",
       "    }\n",
       "\n",
       "    .dataframe tbody tr th {\n",
       "        vertical-align: top;\n",
       "    }\n",
       "\n",
       "    .dataframe thead th {\n",
       "        text-align: right;\n",
       "    }\n",
       "</style>\n",
       "<table border=\"1\" class=\"dataframe\">\n",
       "  <thead>\n",
       "    <tr style=\"text-align: right;\">\n",
       "      <th></th>\n",
       "      <th>id</th>\n",
       "      <th>created_at</th>\n",
       "      <th>text</th>\n",
       "      <th>user_name</th>\n",
       "      <th>user_screen_name</th>\n",
       "      <th>user_id</th>\n",
       "      <th>user_description</th>\n",
       "      <th>user_location</th>\n",
       "      <th>user_verified</th>\n",
       "      <th>lang</th>\n",
       "      <th>...</th>\n",
       "      <th>in_reply_to_user_id</th>\n",
       "      <th>retweet_count</th>\n",
       "      <th>retweet_id</th>\n",
       "      <th>retweet_screen_name</th>\n",
       "      <th>user_created_at</th>\n",
       "      <th>user_favourites_count</th>\n",
       "      <th>user_followers_count</th>\n",
       "      <th>user_friends_count</th>\n",
       "      <th>user_listed_count</th>\n",
       "      <th>user_statuses_count</th>\n",
       "    </tr>\n",
       "  </thead>\n",
       "  <tbody>\n",
       "    <tr>\n",
       "      <th>0</th>\n",
       "      <td>866239077045207040</td>\n",
       "      <td>Sun May 21 10:27:44 +0000 2017</td>\n",
       "      <td>Pounding the streets of Redland this morning w...</td>\n",
       "      <td>Green💚🌻Molly</td>\n",
       "      <td>GreenPartyMolly</td>\n",
       "      <td>726372601</td>\n",
       "      <td>Molly Scott Cato 👋 Green Party External Comms ...</td>\n",
       "      <td>South West</td>\n",
       "      <td>False</td>\n",
       "      <td>en</td>\n",
       "      <td>...</td>\n",
       "      <td>NaN</td>\n",
       "      <td>23.0</td>\n",
       "      <td>8.662375e+17</td>\n",
       "      <td>bristol_yg</td>\n",
       "      <td>Mon Jul 30 16:21:34 +0000 2012</td>\n",
       "      <td>27154.0</td>\n",
       "      <td>59652.0</td>\n",
       "      <td>1965.0</td>\n",
       "      <td>854.0</td>\n",
       "      <td>69671.0</td>\n",
       "    </tr>\n",
       "    <tr>\n",
       "      <th>1</th>\n",
       "      <td>866232717196840960</td>\n",
       "      <td>Sun May 21 10:02:28 +0000 2017</td>\n",
       "      <td>The UKIP BATTLE BUS is coming; please support ...</td>\n",
       "      <td>Dr Julia Reid PhD</td>\n",
       "      <td>julia_reid</td>\n",
       "      <td>43554444</td>\n",
       "      <td>Former Brexit Party MEP for the SW (2014-19) -...</td>\n",
       "      <td>Calne</td>\n",
       "      <td>True</td>\n",
       "      <td>en</td>\n",
       "      <td>...</td>\n",
       "      <td>NaN</td>\n",
       "      <td>38.0</td>\n",
       "      <td>8.662321e+17</td>\n",
       "      <td>DrTeckKhong</td>\n",
       "      <td>Sat May 30 16:46:20 +0000 2009</td>\n",
       "      <td>62208.0</td>\n",
       "      <td>4773.0</td>\n",
       "      <td>6282.0</td>\n",
       "      <td>242.0</td>\n",
       "      <td>139670.0</td>\n",
       "    </tr>\n",
       "    <tr>\n",
       "      <th>2</th>\n",
       "      <td>866236815463862272</td>\n",
       "      <td>Sun May 21 10:18:45 +0000 2017</td>\n",
       "      <td>Yesterday was 10th European Maritime Day, toda...</td>\n",
       "      <td>Catherine Bearder🇪🇺 🇺🇦🇺🇦🇪🇺🔶</td>\n",
       "      <td>catherinemep</td>\n",
       "      <td>454779231</td>\n",
       "      <td>Lib Dem. Board of IFAW and Council of Unlock D...</td>\n",
       "      <td>Oxford</td>\n",
       "      <td>True</td>\n",
       "      <td>en</td>\n",
       "      <td>...</td>\n",
       "      <td>NaN</td>\n",
       "      <td>21.0</td>\n",
       "      <td>8.662204e+17</td>\n",
       "      <td>EU_MARE</td>\n",
       "      <td>Wed Jan 04 11:13:08 +0000 2012</td>\n",
       "      <td>2705.0</td>\n",
       "      <td>32987.0</td>\n",
       "      <td>9121.0</td>\n",
       "      <td>677.0</td>\n",
       "      <td>36328.0</td>\n",
       "    </tr>\n",
       "    <tr>\n",
       "      <th>3</th>\n",
       "      <td>866236868404314112</td>\n",
       "      <td>Sun May 21 10:18:57 +0000 2017</td>\n",
       "      <td>.@theSNP Depute Leader and candidate for Moray...</td>\n",
       "      <td>Ian Hudghton</td>\n",
       "      <td>HudghtonSNP</td>\n",
       "      <td>308677137</td>\n",
       "      <td>SNP President 2005 - 2020. SNP Member of the E...</td>\n",
       "      <td>Scotland</td>\n",
       "      <td>False</td>\n",
       "      <td>en</td>\n",
       "      <td>...</td>\n",
       "      <td>NaN</td>\n",
       "      <td>6.0</td>\n",
       "      <td>8.662227e+17</td>\n",
       "      <td>erikgeddes</td>\n",
       "      <td>Tue May 31 20:22:38 +0000 2011</td>\n",
       "      <td>21.0</td>\n",
       "      <td>5044.0</td>\n",
       "      <td>398.0</td>\n",
       "      <td>205.0</td>\n",
       "      <td>1789.0</td>\n",
       "    </tr>\n",
       "    <tr>\n",
       "      <th>4</th>\n",
       "      <td>866233710714257408</td>\n",
       "      <td>Sun May 21 10:06:25 +0000 2017</td>\n",
       "      <td>@Cacophonic That, and fox hunting and dementia...</td>\n",
       "      <td>Catherine Bearder🇪🇺 🇺🇦🇺🇦🇪🇺🔶</td>\n",
       "      <td>catherinemep</td>\n",
       "      <td>454779231</td>\n",
       "      <td>Lib Dem. Board of IFAW and Council of Unlock D...</td>\n",
       "      <td>Oxford</td>\n",
       "      <td>True</td>\n",
       "      <td>en</td>\n",
       "      <td>...</td>\n",
       "      <td>25067514.0</td>\n",
       "      <td>0.0</td>\n",
       "      <td>NaN</td>\n",
       "      <td>NaN</td>\n",
       "      <td>Wed Jan 04 11:13:08 +0000 2012</td>\n",
       "      <td>2705.0</td>\n",
       "      <td>32987.0</td>\n",
       "      <td>9121.0</td>\n",
       "      <td>677.0</td>\n",
       "      <td>36328.0</td>\n",
       "    </tr>\n",
       "  </tbody>\n",
       "</table>\n",
       "<p>5 rows × 25 columns</p>\n",
       "</div>"
      ],
      "text/plain": [
       "                   id                      created_at  \\\n",
       "0  866239077045207040  Sun May 21 10:27:44 +0000 2017   \n",
       "1  866232717196840960  Sun May 21 10:02:28 +0000 2017   \n",
       "2  866236815463862272  Sun May 21 10:18:45 +0000 2017   \n",
       "3  866236868404314112  Sun May 21 10:18:57 +0000 2017   \n",
       "4  866233710714257408  Sun May 21 10:06:25 +0000 2017   \n",
       "\n",
       "                                                text  \\\n",
       "0  Pounding the streets of Redland this morning w...   \n",
       "1  The UKIP BATTLE BUS is coming; please support ...   \n",
       "2  Yesterday was 10th European Maritime Day, toda...   \n",
       "3  .@theSNP Depute Leader and candidate for Moray...   \n",
       "4  @Cacophonic That, and fox hunting and dementia...   \n",
       "\n",
       "                     user_name user_screen_name    user_id  \\\n",
       "0                 Green💚🌻Molly  GreenPartyMolly  726372601   \n",
       "1            Dr Julia Reid PhD       julia_reid   43554444   \n",
       "2  Catherine Bearder🇪🇺 🇺🇦🇺🇦🇪🇺🔶     catherinemep  454779231   \n",
       "3                 Ian Hudghton      HudghtonSNP  308677137   \n",
       "4  Catherine Bearder🇪🇺 🇺🇦🇺🇦🇪🇺🔶     catherinemep  454779231   \n",
       "\n",
       "                                    user_description user_location  \\\n",
       "0  Molly Scott Cato 👋 Green Party External Comms ...    South West   \n",
       "1  Former Brexit Party MEP for the SW (2014-19) -...         Calne   \n",
       "2  Lib Dem. Board of IFAW and Council of Unlock D...        Oxford   \n",
       "3  SNP President 2005 - 2020. SNP Member of the E...      Scotland   \n",
       "4  Lib Dem. Board of IFAW and Council of Unlock D...        Oxford   \n",
       "\n",
       "  user_verified lang  ... in_reply_to_user_id retweet_count    retweet_id  \\\n",
       "0         False   en  ...                 NaN          23.0  8.662375e+17   \n",
       "1          True   en  ...                 NaN          38.0  8.662321e+17   \n",
       "2          True   en  ...                 NaN          21.0  8.662204e+17   \n",
       "3         False   en  ...                 NaN           6.0  8.662227e+17   \n",
       "4          True   en  ...          25067514.0           0.0           NaN   \n",
       "\n",
       "  retweet_screen_name                 user_created_at  user_favourites_count  \\\n",
       "0          bristol_yg  Mon Jul 30 16:21:34 +0000 2012                27154.0   \n",
       "1         DrTeckKhong  Sat May 30 16:46:20 +0000 2009                62208.0   \n",
       "2             EU_MARE  Wed Jan 04 11:13:08 +0000 2012                 2705.0   \n",
       "3          erikgeddes  Tue May 31 20:22:38 +0000 2011                   21.0   \n",
       "4                 NaN  Wed Jan 04 11:13:08 +0000 2012                 2705.0   \n",
       "\n",
       "   user_followers_count  user_friends_count user_listed_count  \\\n",
       "0               59652.0              1965.0             854.0   \n",
       "1                4773.0              6282.0             242.0   \n",
       "2               32987.0              9121.0             677.0   \n",
       "3                5044.0               398.0             205.0   \n",
       "4               32987.0              9121.0             677.0   \n",
       "\n",
       "  user_statuses_count  \n",
       "0             69671.0  \n",
       "1            139670.0  \n",
       "2             36328.0  \n",
       "3              1789.0  \n",
       "4             36328.0  \n",
       "\n",
       "[5 rows x 25 columns]"
      ]
     },
     "execution_count": 4,
     "metadata": {},
     "output_type": "execute_result"
    }
   ],
   "source": [
    "df.head()"
   ]
  },
  {
   "cell_type": "code",
   "execution_count": null,
   "id": "4c3891ab-8010-4d03-9ec0-30e48543394e",
   "metadata": {},
   "outputs": [],
   "source": []
  },
  {
   "cell_type": "code",
   "execution_count": 5,
   "id": "b65bd8e3-e0f0-4ec8-82cb-3a0eb1d58e05",
   "metadata": {},
   "outputs": [
    {
     "data": {
      "text/plain": [
       "'i am testing alex  than x   '"
      ]
     },
     "execution_count": 5,
     "metadata": {},
     "output_type": "execute_result"
    }
   ],
   "source": [
    "def strip_punc_lower_http(txt):\n",
    "    txt = re.sub(r'''(?i)\\b((?:https?://|www\\d{0,3}[.]|[a-z0-9.\\-]+[.][a-z]{2,4}/)(?:[^\\s()<>]+|\\(([^\\s()<>]+|(\\([^\\s()<>]+\\)))*\\))+(?:\\(([^\\s()<>]+|(\\([^\\s()<>]+\\)))*\\)|[^\\s`!()\\[\\]{};:'\".,<>?«»“”‘’]))''', \" \", txt)\n",
    "\n",
    "    txt = re.sub(pattern= \"[^\\w\\s]\",\n",
    "            repl=\"\",\n",
    "            string=txt).lower()\n",
    "    \n",
    "    txt = re.sub(pattern= \"[0-9]\",\n",
    "            repl=\"\",\n",
    "            string=txt)\n",
    "    \n",
    "    return txt\n",
    "strip_punc_lower_http('I am, testing #ALEX > than X 10. https://scikit-learn.org/stable/modules/generated/sklearn.feature_extraction.text.TfidfVectorizer.html')"
   ]
  },
  {
   "cell_type": "code",
   "execution_count": 6,
   "id": "b54f8e39-7a64-483c-ad65-a40359db01a7",
   "metadata": {},
   "outputs": [],
   "source": [
    "df['text'] = df['text'].apply(lambda x: strip_punc_lower_http(x))"
   ]
  },
  {
   "cell_type": "code",
   "execution_count": 7,
   "id": "7e92be39-ff95-4a32-b909-d49b85a39c0a",
   "metadata": {},
   "outputs": [
    {
     "data": {
      "text/plain": [
       "0    pounding the streets of redland this morning w...\n",
       "1    the ukip battle bus is coming please support m...\n",
       "2    yesterday was th european maritime day today i...\n",
       "3    thesnp depute leader and candidate for moray a...\n",
       "4    cacophonic that and fox hunting and dementia t...\n",
       "Name: text, dtype: object"
      ]
     },
     "execution_count": 7,
     "metadata": {},
     "output_type": "execute_result"
    }
   ],
   "source": [
    "df['text'].head()"
   ]
  },
  {
   "cell_type": "code",
   "execution_count": 8,
   "id": "173e0226-0659-4d0b-a450-ccce92179e7f",
   "metadata": {},
   "outputs": [],
   "source": [
    "df_last500k = df.loc[len(df)-500000:,['id', 'created_at', 'text',\n",
    "                                      'user_description','user_location']].copy()"
   ]
  },
  {
   "cell_type": "code",
   "execution_count": 9,
   "id": "85f38882-8490-4922-b6ad-082c6d7b8dcd",
   "metadata": {},
   "outputs": [
    {
     "data": {
      "text/html": [
       "<div>\n",
       "<style scoped>\n",
       "    .dataframe tbody tr th:only-of-type {\n",
       "        vertical-align: middle;\n",
       "    }\n",
       "\n",
       "    .dataframe tbody tr th {\n",
       "        vertical-align: top;\n",
       "    }\n",
       "\n",
       "    .dataframe thead th {\n",
       "        text-align: right;\n",
       "    }\n",
       "</style>\n",
       "<table border=\"1\" class=\"dataframe\">\n",
       "  <thead>\n",
       "    <tr style=\"text-align: right;\">\n",
       "      <th></th>\n",
       "      <th>id</th>\n",
       "      <th>created_at</th>\n",
       "      <th>text</th>\n",
       "      <th>user_description</th>\n",
       "      <th>user_location</th>\n",
       "    </tr>\n",
       "  </thead>\n",
       "  <tbody>\n",
       "    <tr>\n",
       "      <th>2689504</th>\n",
       "      <td>1011761027283935232</td>\n",
       "      <td>Wed Jun 27 00:00:01 +0000 2018</td>\n",
       "      <td>very disappointed in the scotus decision to up...</td>\n",
       "      <td>Member of Congress representing the First Dist...</td>\n",
       "      <td>Hartford, CT</td>\n",
       "    </tr>\n",
       "    <tr>\n",
       "      <th>2689505</th>\n",
       "      <td>1011757594787155968</td>\n",
       "      <td>Tue Jun 26 23:46:22 +0000 2018</td>\n",
       "      <td>i love it blackfirebrigad opens new clubhouse ...</td>\n",
       "      <td>Official Twitter for Rep Robin Kelly #IL02\\n\\n...</td>\n",
       "      <td>NaN</td>\n",
       "    </tr>\n",
       "    <tr>\n",
       "      <th>2689506</th>\n",
       "      <td>1011759406059421696</td>\n",
       "      <td>Tue Jun 26 23:53:34 +0000 2018</td>\n",
       "      <td>a stronger economy means a stronger australia ...</td>\n",
       "      <td>Fmr Assistant Minister &amp; Liberal MP | Dees Man...</td>\n",
       "      <td>Brighton East, VIC</td>\n",
       "    </tr>\n",
       "    <tr>\n",
       "      <th>2689507</th>\n",
       "      <td>1011756236281470976</td>\n",
       "      <td>Tue Jun 26 23:40:58 +0000 2018</td>\n",
       "      <td>thought the brexit dividend was paying for the...</td>\n",
       "      <td>MEP '99-2019, Rtd NHS Consultant. Internationa...</td>\n",
       "      <td>UK &amp; EU</td>\n",
       "    </tr>\n",
       "    <tr>\n",
       "      <th>2689508</th>\n",
       "      <td>1011757023011061760</td>\n",
       "      <td>Tue Jun 26 23:44:06 +0000 2018</td>\n",
       "      <td>bob zimmer understanding bill c and the new ru...</td>\n",
       "      <td>MP for Prince George-Peace River-Northern Rock...</td>\n",
       "      <td>Fort St. John, British Columbia</td>\n",
       "    </tr>\n",
       "    <tr>\n",
       "      <th>...</th>\n",
       "      <td>...</td>\n",
       "      <td>...</td>\n",
       "      <td>...</td>\n",
       "      <td>...</td>\n",
       "      <td>...</td>\n",
       "    </tr>\n",
       "    <tr>\n",
       "      <th>3189499</th>\n",
       "      <td>1125114865423613952</td>\n",
       "      <td>Sun May 05 19:07:42 +0000 2019</td>\n",
       "      <td>delighted to welcome borisjohnson to clwydwest...</td>\n",
       "      <td>Conservative MP for Clwyd West / Aelod Seneddo...</td>\n",
       "      <td>North Wales and Westminster</td>\n",
       "    </tr>\n",
       "    <tr>\n",
       "      <th>3189500</th>\n",
       "      <td>1124728667555467264</td>\n",
       "      <td>Sat May 04 17:33:05 +0000 2019</td>\n",
       "      <td>stopped in at the churchill united church for ...</td>\n",
       "      <td>Former IAFF (2727) Firefighter. Member of Parl...</td>\n",
       "      <td>Barrie, Ontario</td>\n",
       "    </tr>\n",
       "    <tr>\n",
       "      <th>3189501</th>\n",
       "      <td>1124391243885289472</td>\n",
       "      <td>Fri May 03 19:12:17 +0000 2019</td>\n",
       "      <td>proest</td>\n",
       "      <td>Beste Kamerlid (GeenStijl). Politicus van het ...</td>\n",
       "      <td>Bourgondisch Kreits</td>\n",
       "    </tr>\n",
       "    <tr>\n",
       "      <th>3189502</th>\n",
       "      <td>1124682517389426688</td>\n",
       "      <td>Sat May 04 14:29:42 +0000 2019</td>\n",
       "      <td>fantastic to join isha jp and niaz at their gr...</td>\n",
       "      <td>Former IAFF (2727) Firefighter. Member of Parl...</td>\n",
       "      <td>Barrie, Ontario</td>\n",
       "    </tr>\n",
       "    <tr>\n",
       "      <th>3189503</th>\n",
       "      <td>1124668256990707712</td>\n",
       "      <td>Sat May 04 13:33:02 +0000 2019</td>\n",
       "      <td>sandy cove acres is hosting a home show and em...</td>\n",
       "      <td>Former IAFF (2727) Firefighter. Member of Parl...</td>\n",
       "      <td>Barrie, Ontario</td>\n",
       "    </tr>\n",
       "  </tbody>\n",
       "</table>\n",
       "<p>500000 rows × 5 columns</p>\n",
       "</div>"
      ],
      "text/plain": [
       "                          id                      created_at  \\\n",
       "2689504  1011761027283935232  Wed Jun 27 00:00:01 +0000 2018   \n",
       "2689505  1011757594787155968  Tue Jun 26 23:46:22 +0000 2018   \n",
       "2689506  1011759406059421696  Tue Jun 26 23:53:34 +0000 2018   \n",
       "2689507  1011756236281470976  Tue Jun 26 23:40:58 +0000 2018   \n",
       "2689508  1011757023011061760  Tue Jun 26 23:44:06 +0000 2018   \n",
       "...                      ...                             ...   \n",
       "3189499  1125114865423613952  Sun May 05 19:07:42 +0000 2019   \n",
       "3189500  1124728667555467264  Sat May 04 17:33:05 +0000 2019   \n",
       "3189501  1124391243885289472  Fri May 03 19:12:17 +0000 2019   \n",
       "3189502  1124682517389426688  Sat May 04 14:29:42 +0000 2019   \n",
       "3189503  1124668256990707712  Sat May 04 13:33:02 +0000 2019   \n",
       "\n",
       "                                                      text  \\\n",
       "2689504  very disappointed in the scotus decision to up...   \n",
       "2689505  i love it blackfirebrigad opens new clubhouse ...   \n",
       "2689506  a stronger economy means a stronger australia ...   \n",
       "2689507  thought the brexit dividend was paying for the...   \n",
       "2689508  bob zimmer understanding bill c and the new ru...   \n",
       "...                                                    ...   \n",
       "3189499  delighted to welcome borisjohnson to clwydwest...   \n",
       "3189500  stopped in at the churchill united church for ...   \n",
       "3189501                                           proest     \n",
       "3189502  fantastic to join isha jp and niaz at their gr...   \n",
       "3189503  sandy cove acres is hosting a home show and em...   \n",
       "\n",
       "                                          user_description  \\\n",
       "2689504  Member of Congress representing the First Dist...   \n",
       "2689505  Official Twitter for Rep Robin Kelly #IL02\\n\\n...   \n",
       "2689506  Fmr Assistant Minister & Liberal MP | Dees Man...   \n",
       "2689507  MEP '99-2019, Rtd NHS Consultant. Internationa...   \n",
       "2689508  MP for Prince George-Peace River-Northern Rock...   \n",
       "...                                                    ...   \n",
       "3189499  Conservative MP for Clwyd West / Aelod Seneddo...   \n",
       "3189500  Former IAFF (2727) Firefighter. Member of Parl...   \n",
       "3189501  Beste Kamerlid (GeenStijl). Politicus van het ...   \n",
       "3189502  Former IAFF (2727) Firefighter. Member of Parl...   \n",
       "3189503  Former IAFF (2727) Firefighter. Member of Parl...   \n",
       "\n",
       "                           user_location  \n",
       "2689504                     Hartford, CT  \n",
       "2689505                              NaN  \n",
       "2689506               Brighton East, VIC  \n",
       "2689507                         UK & EU   \n",
       "2689508  Fort St. John, British Columbia  \n",
       "...                                  ...  \n",
       "3189499      North Wales and Westminster  \n",
       "3189500                  Barrie, Ontario  \n",
       "3189501              Bourgondisch Kreits  \n",
       "3189502                  Barrie, Ontario  \n",
       "3189503                  Barrie, Ontario  \n",
       "\n",
       "[500000 rows x 5 columns]"
      ]
     },
     "execution_count": 9,
     "metadata": {},
     "output_type": "execute_result"
    }
   ],
   "source": [
    "df_last500k"
   ]
  },
  {
   "cell_type": "code",
   "execution_count": 9,
   "id": "9f3ee2bb-7019-4453-82d7-d72d00679342",
   "metadata": {},
   "outputs": [],
   "source": [
    "df_last500k.to_csv('eu_last500_clean.csv', index = False)"
   ]
  },
  {
   "cell_type": "code",
   "execution_count": 10,
   "id": "9370ced4-b287-4459-ba15-f1160f105323",
   "metadata": {},
   "outputs": [],
   "source": [
    "my_stop_words = ['wonderful', 'did', 'didnt', 'issue', 'issues', 'actually', 'id','th',\n",
    "                'community']"
   ]
  },
  {
   "cell_type": "code",
   "execution_count": 11,
   "id": "32b1c9b2-b2d1-4bb3-be48-234e75efe27b",
   "metadata": {},
   "outputs": [],
   "source": [
    "my_stop_words = text.ENGLISH_STOP_WORDS.union(my_stop_words)"
   ]
  },
  {
   "cell_type": "code",
   "execution_count": 12,
   "id": "f3cb65dc-4b64-4df8-85e9-502ca25eb54c",
   "metadata": {},
   "outputs": [],
   "source": [
    "tv_30docs = TfidfVectorizer(stop_words = my_stop_words, min_df=30)\n",
    "dtm_tv_30docs = tv_30docs.fit_transform(list(df_last500k['text']))"
   ]
  },
  {
   "cell_type": "code",
   "execution_count": 13,
   "id": "2e4ce9d1-faf0-4f08-9fac-ab6bb9b165a9",
   "metadata": {},
   "outputs": [
    {
     "data": {
      "text/plain": [
       "(500000, 15895)"
      ]
     },
     "execution_count": 13,
     "metadata": {},
     "output_type": "execute_result"
    }
   ],
   "source": [
    "dtm_tv_30docs.shape"
   ]
  },
  {
   "cell_type": "code",
   "execution_count": 14,
   "id": "37ad67ee-5edd-4f32-94ca-e89db26a807c",
   "metadata": {},
   "outputs": [],
   "source": [
    "words_30 = list(np.asarray(tv_30docs.get_feature_names_out()))"
   ]
  },
  {
   "cell_type": "code",
   "execution_count": null,
   "id": "75740d83-0a8d-498f-9af3-f06c70c4e970",
   "metadata": {},
   "outputs": [],
   "source": []
  },
  {
   "cell_type": "code",
   "execution_count": 29,
   "id": "ce71dec7-e945-49f2-aae7-e069217736fe",
   "metadata": {},
   "outputs": [
    {
     "data": {
      "text/plain": [
       "<corextopic.corextopic.Corex at 0x7fca830c5b20>"
      ]
     },
     "execution_count": 29,
     "metadata": {},
     "output_type": "execute_result"
    }
   ],
   "source": [
    "corex_model = ct.Corex(n_hidden=  50, ### YOUR NUMBER OF TOPICS HERE\n",
    "                       words=   words_30,   ### YOUR VOCABULARY HERE\n",
    "                       seed=1\n",
    "                       )\n",
    "\n",
    "corex_model.fit(dtm_tv_30docs,       ### YOUR DOCUMENT TERM MATRIX HERE\n",
    "                words= words_30   , ### YOUR VOCABULARY HERE\n",
    "                docs= df_last500k['text']     ### YOUR DOCUMENT SERIES HERE\n",
    "                )"
   ]
  },
  {
   "cell_type": "code",
   "execution_count": 30,
   "id": "f8a0686f-315d-44d9-af00-3dcafc07c7d6",
   "metadata": {},
   "outputs": [
    {
     "name": "stdout",
     "output_type": "stream",
     "text": [
      "0: great, happy, brexit, thank, deal, trump, congratulations, eu, day, team\n",
      "1: mentions, retweets, likes, reach, mention, twitter, retweet, replies, followers, nonfollowers\n",
      "2: upeu, epphelsinki, ghokmark, robertametsola, manfredweber, hennavirkkunen, newsplatforma, tomaszsiemoniak, delcastillop, stetinaep\n",
      "3: chibokgirls, bringbackourgirls, boko, haram, harams, captive, captivity, bbog, abducted, abduction\n",
      "4: unfollowed, automatically, checked, lviv, ukraineelections, ist, followed, es, provided, philly\n",
      "5: dontbrexitfixit, haggis_uk, charlestannock, brexitbin, catherinemep, julienw, sebdance, campbellclaret, femi_sorry, mercury\n",
      "6: andrea, navigation, nick, pancreatic, partner, podcast, potholes, richardburgon, role, sanctuary\n",
      "7: abundance, movements, municipalities, murphyeoghan, nets, newzealand, ninth, northeast, nys, pharmacies\n",
      "8: sentsov, oleg, sakharovprize, freesentsov, sakharov, orlando, portfolio, prague, praises, replloyddoggett\n",
      "9: anxious, models, motivation, natures_voice, navigate, navigating, nowforni, opportunityzones, panels, plus\n",
      "10: apartment, msc, nursing, ofsted, paulfletchermp, peru, postcard, prospective, restored, rightful\n",
      "11: activism, mock, nhsengland, normanlamb, origin, pas, phelan, pork, regularly, retail\n",
      "12: accommodate, nationalfarmers, northernassist, ohios, okay, passing, passionately, pbs, pd, person\n",
      "13: albuquerque, originally, parts, physicians, programmes, pulse, reagan, realm, receives, replied\n",
      "14: alison_mcgovern, leavenoonebehind, lindsey, livestream, nicolasturgeon, nigerian, nms, pathways, pen, rbkc\n",
      "15: alaskans, oshawa, pivotal, plant, polcan, preserved, recyclable, regions, mph, repbyrne\n",
      "16: accessible, msdstrong, nature, niagriffithmp, oireachtas, orcas, paso, putittothepeople, qld, railroad\n",
      "17: abe, informing, instrumental, investeu, ivankatrump, leadership, loaded, locate, madeinwi, nonprofits\n",
      "18: assisted, vacation, utmost, unisontweets, unified, tweeting, tes, shelves, senorrinhatch, satellite\n",
      "19: accompanying, fsb_policy, gene, gregclarkmp, hails, interviewed, jacinda, labourlewis, latvia, lens\n",
      "20: aint, outspoken, pediatric, pittsburgh, pku, preparing, promote, qualifying, reopens, results\n",
      "21: ago, ncwx, newsintameside, nswpol, operator, overwhelmed, parked, poles, pretty, professors\n",
      "22: accident, neck, oregons, origins, orourke, parkinsons, pigs, reminds, resumes, msd\n",
      "23: acres, modular, needing, neighbor, nickgibbuk, pepper, plasticpollution, posh, positively, putittothepeoplemarch\n",
      "24: abpoli, relatives, researchers, researching, rex, saferinternetday, shoulders, siege, solidarityie, recruited\n",
      "25: acknowledge, itv, job, moneillsf, mosques, nikki, papua, peoria, printer, profession\n",
      "26: adults, kenya, leonardcheshire, lincolns, mckenna, mids, nfib, obtaining, owned, pad\n",
      "27: acquire, lining, list, marchforlife, mayday, nzqt, offutt_afb, orgs, outlet, researcher\n",
      "28: affecting, latin, manages, minnesotans, mud, northamptonshire, nsw, openmp, passport, polish\n",
      "29: allocated, njs, nswvotes, pieces, portion, poultry, rats, repdebdingell, sealed, senjoniernst\n",
      "30: adult, impactful, jacqueline, jbrokenshire, jet, lyra, michellerempel, mineral, newspaper, observation\n",
      "31: accessibility, munich, nevadas, nows, occasions, particular, portugal, poway, prep, repraskin\n",
      "32: acknowledged, nspcc, oneyear, partially, pipe, pouring, produced, prostate, quantum, robbery\n",
      "33: aampe, labconf, letting, marco, mckee, morrisons, nationalhousingstrategy, pillar, pursuit, qc\n",
      "34: alynsmith, liberty, machine, maines, mali, max, mentioning, participation, past, paving\n",
      "35: abingdon, oneonone, opp, pakistans, phones, psychology, receipt, renewal, roads, routes\n",
      "36: ableg, mohammed, ont, operates, ops, parenting, robots, rte, segregated, mmiwg\n",
      "37: achieving, madeleine, malaysia, manuel, map, maps, marjory, marshadecordova, mates, lp\n",
      "38: acknowledging, preparation, puget, readers, rooted, scotrail, sending, senduckworth, precision, stepping\n",
      "39: ac, mario, merseyside, montréal, northland, parttime, pbp, polls, rat, reminding\n",
      "40: atrisk, peterkyle, preserves, puppies, religions, reservoir, searching, nixon, sendavidperdue, supplying\n",
      "41: adoption, manufacturer, member, mikegapes, minded, network, noticed, peoplesvotemarch, perdue, periodpoverty\n",
      "42: andor, massacre, mosul, nations, nominees, oregon, page, pennymordaunt, psa, receive\n",
      "43: aging, newburgh, note, nuts, pakistani, piers, playing, queenslanders, relax, repbeatty\n",
      "44: autistic, luckily, marching, mfamalta, parks, philhoganeu, powerhouse, rare, repjohnkatko, sas\n",
      "45: addictions, loss, machinery, mad, netherlands, nm, pamela, par, pedestrians, planets\n",
      "46: appgbritmuslims, nevadans, officers, pillars, pipes, pl, preserving, prisoner, mri, publishers\n",
      "47: accepted, nailed, nearest, orr, ouch, overview, pair, peas, pps, predecessors\n",
      "48: annaturley, nazism, nearby, nsf, palliative, partnerships, patelwitham, polar, posts, powered\n",
      "49: attracting, moved, norm, petty, promoted, puzzle, reads, recycled, motorway, remote\n"
     ]
    }
   ],
   "source": [
    "topics = corex_model.get_topics()\n",
    "for n,topic in enumerate(topics):\n",
    "    topic_words,_,_ = zip(*topic)\n",
    "    print(f'{n}: {\", \".join(topic_words)}')"
   ]
  },
  {
   "cell_type": "code",
   "execution_count": 28,
   "id": "a2f27ce4-954d-45aa-a561-46b0a48a8947",
   "metadata": {},
   "outputs": [
    {
     "data": {
      "text/plain": [
       "0.06686363841958859"
      ]
     },
     "execution_count": 28,
     "metadata": {},
     "output_type": "execute_result"
    }
   ],
   "source": [
    "corex_model.tc"
   ]
  },
  {
   "cell_type": "code",
   "execution_count": null,
   "id": "9b8badaf-4c04-4a39-8baf-6ece3d476953",
   "metadata": {},
   "outputs": [],
   "source": []
  },
  {
   "cell_type": "code",
   "execution_count": 108,
   "id": "bb0ffc65-7f1a-48d3-ba47-98920290bec8",
   "metadata": {},
   "outputs": [],
   "source": []
  },
  {
   "cell_type": "code",
   "execution_count": 109,
   "id": "d18c42a1-ae49-49a4-a62f-e6f004b7eecf",
   "metadata": {},
   "outputs": [
    {
     "data": {
      "text/plain": [
       "(500001, 16604)"
      ]
     },
     "execution_count": 109,
     "metadata": {},
     "output_type": "execute_result"
    }
   ],
   "source": []
  },
  {
   "cell_type": "code",
   "execution_count": 74,
   "id": "c70d1230-7709-4922-b9a6-2686ec34d3f0",
   "metadata": {},
   "outputs": [],
   "source": [
    "words_30_semi = list(np.asarray(tv_30docs.get_feature_names_out()))"
   ]
  },
  {
   "cell_type": "code",
   "execution_count": null,
   "id": "74715d55-5896-4730-b717-6f4899a10a26",
   "metadata": {},
   "outputs": [],
   "source": []
  },
  {
   "cell_type": "code",
   "execution_count": 16,
   "id": "d0422d6d-ec7a-49f2-9e05-93617ba0309f",
   "metadata": {},
   "outputs": [
    {
     "data": {
      "text/plain": [
       "<corextopic.corextopic.Corex at 0x7fca830c5070>"
      ]
     },
     "execution_count": 16,
     "metadata": {},
     "output_type": "execute_result"
    }
   ],
   "source": [
    "anchor_words =[\n",
    "                ['immigration', 'immigrant'],\n",
    "                ['christian', 'hindu', 'muslim', 'jewish', 'religion'],\n",
    "                ['trump'],\n",
    "                ['brexit', 'eu', 'leave'],\n",
    "                ['women','violence', 'rights'],\n",
    "                ['health', 'care','insurance', 'mental'],\n",
    "                ['climate', 'change'],\n",
    "                ['jobs', 'economy', 'business']\n",
    "                ]\n",
    "\n",
    "\n",
    "\n",
    "\n",
    "corex_semi = ct.Corex(n_hidden= 8, ### YOUR NUMBER OF TOPICS HERE\n",
    "                       words=   words_30,   ### YOUR VOCABULARY HERE\n",
    "                       seed=1\n",
    "                       )\n",
    "\n",
    "corex_semi.fit(dtm_tv_30docs,       ### YOUR DOCUMENT TERM MATRIX HERE\n",
    "                words= words_30   , ### YOUR VOCABULARY HERE\n",
    "                docs= df_last500k['text'],\n",
    "                anchors=anchor_words,\n",
    "                anchor_strength = 3\n",
    "                )"
   ]
  },
  {
   "cell_type": "code",
   "execution_count": 17,
   "id": "e9a6774d-81f0-4e4a-9b1a-a339e6f48f65",
   "metadata": {},
   "outputs": [
    {
     "name": "stdout",
     "output_type": "stream",
     "text": [
      "0: mentions, retweets, likes, reach, mention, twitter, retweet, replies, followers, nonfollowers\n",
      "1: jewish, muslim, christian, hindu, religion, sameach, chag, holocaust, ramadan, antisemitism\n",
      "2: trump, great, administration, border, president, act, kavanaugh, trumps, americans, senate\n",
      "3: brexit, eu, leave, deal, theresa, mays, nodeal, referendum, uk, peoplesvote\n",
      "4: violence, women, gun, domestic, chibokgirls, bringbackourgirls, boko, vawa, genderbased, haram\n",
      "5: health, care, mental, insurance, getcovered, coverage, enrollment, preexisting, affordable, conditions\n",
      "6: climate, change, action, actonclimate, climatechange, planet, emissions, pollution, climateactionnow, environment\n",
      "7: jobs, economy, business, small, unemployment, businesses, betteroffnow, rate, lowest, growth\n"
     ]
    }
   ],
   "source": [
    "topics_semi = corex_semi.get_topics()\n",
    "for n,topic in enumerate(topics_semi):\n",
    "    topic_words,_,_ = zip(*topic)\n",
    "    print(f'{n}: {\", \".join(topic_words)}')"
   ]
  },
  {
   "cell_type": "code",
   "execution_count": 31,
   "id": "19dc7310-f8bf-4c2c-b14f-cd8060c7275e",
   "metadata": {},
   "outputs": [
    {
     "name": "stdout",
     "output_type": "stream",
     "text": [
      "Print topics in text file\n"
     ]
    }
   ],
   "source": [
    "from corextopic import vis_topic as vt\n",
    "vt.vis_rep(corex_semi, column_label=words, prefix='topic-model-example')"
   ]
  },
  {
   "cell_type": "code",
   "execution_count": 22,
   "id": "9d342206-bb5d-49fa-87ca-c62af830e13b",
   "metadata": {},
   "outputs": [
    {
     "data": {
      "text/plain": [
       "0.09134038678148756"
      ]
     },
     "execution_count": 22,
     "metadata": {},
     "output_type": "execute_result"
    }
   ],
   "source": [
    "(corex_semi.tc\n",
    ")"
   ]
  },
  {
   "cell_type": "code",
   "execution_count": null,
   "id": "43ae2e9c-9ef9-4bca-b442-1332a9131033",
   "metadata": {},
   "outputs": [],
   "source": []
  }
 ],
 "metadata": {
  "kernelspec": {
   "display_name": "Python 3 (ipykernel)",
   "language": "python",
   "name": "python3"
  },
  "language_info": {
   "codemirror_mode": {
    "name": "ipython",
    "version": 3
   },
   "file_extension": ".py",
   "mimetype": "text/x-python",
   "name": "python",
   "nbconvert_exporter": "python",
   "pygments_lexer": "ipython3",
   "version": "3.8.13"
  }
 },
 "nbformat": 4,
 "nbformat_minor": 5
}
