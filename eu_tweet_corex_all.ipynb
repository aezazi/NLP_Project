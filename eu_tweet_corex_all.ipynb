{
 "cells": [
  {
   "cell_type": "code",
   "execution_count": 1,
   "id": "f9102f17-fe82-48c0-9a2b-bce5afd86eae",
   "metadata": {},
   "outputs": [],
   "source": [
    "%reset -fs\n",
    "import pandas as pd\n",
    "import numpy as np\n",
    "\n",
    "from sklearn.model_selection import train_test_split\n",
    "\n",
    "from sklearn.feature_extraction import text\n",
    "from sklearn.feature_extraction.text import CountVectorizer, TfidfVectorizer\n",
    "from sklearn.naive_bayes import MultinomialNB, GaussianNB\n",
    "from sklearn.decomposition import TruncatedSVD, NMF\n",
    "\n",
    "import re\n",
    "\n",
    "from corextopic import corextopic as ct"
   ]
  },
  {
   "cell_type": "code",
   "execution_count": 2,
   "id": "211e5e74-d85d-4db0-8068-8beab32863ec",
   "metadata": {},
   "outputs": [
    {
     "name": "stderr",
     "output_type": "stream",
     "text": [
      "/var/folders/gc/kgfpjt4x1d5c1thdk2sl_2hr0000gn/T/ipykernel_17786/3349357611.py:1: DtypeWarning: Columns (8) have mixed types. Specify dtype option on import or set low_memory=False.\n",
      "  df = pd.read_csv('eu_tweet_df_eda1.csv')\n"
     ]
    }
   ],
   "source": [
    "df = pd.read_csv('eu_tweet_df_eda1.csv')"
   ]
  },
  {
   "cell_type": "code",
   "execution_count": 3,
   "id": "491262a5-4258-4bcf-bed0-c5bd0f854212",
   "metadata": {},
   "outputs": [
    {
     "data": {
      "text/html": [
       "<div>\n",
       "<style scoped>\n",
       "    .dataframe tbody tr th:only-of-type {\n",
       "        vertical-align: middle;\n",
       "    }\n",
       "\n",
       "    .dataframe tbody tr th {\n",
       "        vertical-align: top;\n",
       "    }\n",
       "\n",
       "    .dataframe thead th {\n",
       "        text-align: right;\n",
       "    }\n",
       "</style>\n",
       "<table border=\"1\" class=\"dataframe\">\n",
       "  <thead>\n",
       "    <tr style=\"text-align: right;\">\n",
       "      <th></th>\n",
       "      <th>id</th>\n",
       "      <th>created_at</th>\n",
       "      <th>text</th>\n",
       "      <th>user_name</th>\n",
       "      <th>user_screen_name</th>\n",
       "      <th>user_id</th>\n",
       "      <th>user_description</th>\n",
       "      <th>user_location</th>\n",
       "      <th>user_verified</th>\n",
       "      <th>lang</th>\n",
       "      <th>...</th>\n",
       "      <th>in_reply_to_user_id</th>\n",
       "      <th>retweet_count</th>\n",
       "      <th>retweet_id</th>\n",
       "      <th>retweet_screen_name</th>\n",
       "      <th>user_created_at</th>\n",
       "      <th>user_favourites_count</th>\n",
       "      <th>user_followers_count</th>\n",
       "      <th>user_friends_count</th>\n",
       "      <th>user_listed_count</th>\n",
       "      <th>user_statuses_count</th>\n",
       "    </tr>\n",
       "  </thead>\n",
       "  <tbody>\n",
       "    <tr>\n",
       "      <th>0</th>\n",
       "      <td>866239077045207040</td>\n",
       "      <td>Sun May 21 10:27:44 +0000 2017</td>\n",
       "      <td>Pounding the streets of Redland this morning w...</td>\n",
       "      <td>Green💚🌻Molly</td>\n",
       "      <td>GreenPartyMolly</td>\n",
       "      <td>726372601</td>\n",
       "      <td>Molly Scott Cato 👋 Green Party External Comms ...</td>\n",
       "      <td>South West</td>\n",
       "      <td>False</td>\n",
       "      <td>en</td>\n",
       "      <td>...</td>\n",
       "      <td>NaN</td>\n",
       "      <td>23.0</td>\n",
       "      <td>8.662375e+17</td>\n",
       "      <td>bristol_yg</td>\n",
       "      <td>Mon Jul 30 16:21:34 +0000 2012</td>\n",
       "      <td>27154.0</td>\n",
       "      <td>59652.0</td>\n",
       "      <td>1965.0</td>\n",
       "      <td>854.0</td>\n",
       "      <td>69671.0</td>\n",
       "    </tr>\n",
       "    <tr>\n",
       "      <th>1</th>\n",
       "      <td>866232717196840960</td>\n",
       "      <td>Sun May 21 10:02:28 +0000 2017</td>\n",
       "      <td>The UKIP BATTLE BUS is coming; please support ...</td>\n",
       "      <td>Dr Julia Reid PhD</td>\n",
       "      <td>julia_reid</td>\n",
       "      <td>43554444</td>\n",
       "      <td>Former Brexit Party MEP for the SW (2014-19) -...</td>\n",
       "      <td>Calne</td>\n",
       "      <td>True</td>\n",
       "      <td>en</td>\n",
       "      <td>...</td>\n",
       "      <td>NaN</td>\n",
       "      <td>38.0</td>\n",
       "      <td>8.662321e+17</td>\n",
       "      <td>DrTeckKhong</td>\n",
       "      <td>Sat May 30 16:46:20 +0000 2009</td>\n",
       "      <td>62208.0</td>\n",
       "      <td>4773.0</td>\n",
       "      <td>6282.0</td>\n",
       "      <td>242.0</td>\n",
       "      <td>139670.0</td>\n",
       "    </tr>\n",
       "    <tr>\n",
       "      <th>2</th>\n",
       "      <td>866236815463862272</td>\n",
       "      <td>Sun May 21 10:18:45 +0000 2017</td>\n",
       "      <td>Yesterday was 10th European Maritime Day, toda...</td>\n",
       "      <td>Catherine Bearder🇪🇺 🇺🇦🇺🇦🇪🇺🔶</td>\n",
       "      <td>catherinemep</td>\n",
       "      <td>454779231</td>\n",
       "      <td>Lib Dem. Board of IFAW and Council of Unlock D...</td>\n",
       "      <td>Oxford</td>\n",
       "      <td>True</td>\n",
       "      <td>en</td>\n",
       "      <td>...</td>\n",
       "      <td>NaN</td>\n",
       "      <td>21.0</td>\n",
       "      <td>8.662204e+17</td>\n",
       "      <td>EU_MARE</td>\n",
       "      <td>Wed Jan 04 11:13:08 +0000 2012</td>\n",
       "      <td>2705.0</td>\n",
       "      <td>32987.0</td>\n",
       "      <td>9121.0</td>\n",
       "      <td>677.0</td>\n",
       "      <td>36328.0</td>\n",
       "    </tr>\n",
       "    <tr>\n",
       "      <th>3</th>\n",
       "      <td>866236868404314112</td>\n",
       "      <td>Sun May 21 10:18:57 +0000 2017</td>\n",
       "      <td>.@theSNP Depute Leader and candidate for Moray...</td>\n",
       "      <td>Ian Hudghton</td>\n",
       "      <td>HudghtonSNP</td>\n",
       "      <td>308677137</td>\n",
       "      <td>SNP President 2005 - 2020. SNP Member of the E...</td>\n",
       "      <td>Scotland</td>\n",
       "      <td>False</td>\n",
       "      <td>en</td>\n",
       "      <td>...</td>\n",
       "      <td>NaN</td>\n",
       "      <td>6.0</td>\n",
       "      <td>8.662227e+17</td>\n",
       "      <td>erikgeddes</td>\n",
       "      <td>Tue May 31 20:22:38 +0000 2011</td>\n",
       "      <td>21.0</td>\n",
       "      <td>5044.0</td>\n",
       "      <td>398.0</td>\n",
       "      <td>205.0</td>\n",
       "      <td>1789.0</td>\n",
       "    </tr>\n",
       "    <tr>\n",
       "      <th>4</th>\n",
       "      <td>866233710714257408</td>\n",
       "      <td>Sun May 21 10:06:25 +0000 2017</td>\n",
       "      <td>@Cacophonic That, and fox hunting and dementia...</td>\n",
       "      <td>Catherine Bearder🇪🇺 🇺🇦🇺🇦🇪🇺🔶</td>\n",
       "      <td>catherinemep</td>\n",
       "      <td>454779231</td>\n",
       "      <td>Lib Dem. Board of IFAW and Council of Unlock D...</td>\n",
       "      <td>Oxford</td>\n",
       "      <td>True</td>\n",
       "      <td>en</td>\n",
       "      <td>...</td>\n",
       "      <td>25067514.0</td>\n",
       "      <td>0.0</td>\n",
       "      <td>NaN</td>\n",
       "      <td>NaN</td>\n",
       "      <td>Wed Jan 04 11:13:08 +0000 2012</td>\n",
       "      <td>2705.0</td>\n",
       "      <td>32987.0</td>\n",
       "      <td>9121.0</td>\n",
       "      <td>677.0</td>\n",
       "      <td>36328.0</td>\n",
       "    </tr>\n",
       "  </tbody>\n",
       "</table>\n",
       "<p>5 rows × 25 columns</p>\n",
       "</div>"
      ],
      "text/plain": [
       "                   id                      created_at  \\\n",
       "0  866239077045207040  Sun May 21 10:27:44 +0000 2017   \n",
       "1  866232717196840960  Sun May 21 10:02:28 +0000 2017   \n",
       "2  866236815463862272  Sun May 21 10:18:45 +0000 2017   \n",
       "3  866236868404314112  Sun May 21 10:18:57 +0000 2017   \n",
       "4  866233710714257408  Sun May 21 10:06:25 +0000 2017   \n",
       "\n",
       "                                                text  \\\n",
       "0  Pounding the streets of Redland this morning w...   \n",
       "1  The UKIP BATTLE BUS is coming; please support ...   \n",
       "2  Yesterday was 10th European Maritime Day, toda...   \n",
       "3  .@theSNP Depute Leader and candidate for Moray...   \n",
       "4  @Cacophonic That, and fox hunting and dementia...   \n",
       "\n",
       "                     user_name user_screen_name    user_id  \\\n",
       "0                 Green💚🌻Molly  GreenPartyMolly  726372601   \n",
       "1            Dr Julia Reid PhD       julia_reid   43554444   \n",
       "2  Catherine Bearder🇪🇺 🇺🇦🇺🇦🇪🇺🔶     catherinemep  454779231   \n",
       "3                 Ian Hudghton      HudghtonSNP  308677137   \n",
       "4  Catherine Bearder🇪🇺 🇺🇦🇺🇦🇪🇺🔶     catherinemep  454779231   \n",
       "\n",
       "                                    user_description user_location  \\\n",
       "0  Molly Scott Cato 👋 Green Party External Comms ...    South West   \n",
       "1  Former Brexit Party MEP for the SW (2014-19) -...         Calne   \n",
       "2  Lib Dem. Board of IFAW and Council of Unlock D...        Oxford   \n",
       "3  SNP President 2005 - 2020. SNP Member of the E...      Scotland   \n",
       "4  Lib Dem. Board of IFAW and Council of Unlock D...        Oxford   \n",
       "\n",
       "  user_verified lang  ... in_reply_to_user_id retweet_count    retweet_id  \\\n",
       "0         False   en  ...                 NaN          23.0  8.662375e+17   \n",
       "1          True   en  ...                 NaN          38.0  8.662321e+17   \n",
       "2          True   en  ...                 NaN          21.0  8.662204e+17   \n",
       "3         False   en  ...                 NaN           6.0  8.662227e+17   \n",
       "4          True   en  ...          25067514.0           0.0           NaN   \n",
       "\n",
       "  retweet_screen_name                 user_created_at  user_favourites_count  \\\n",
       "0          bristol_yg  Mon Jul 30 16:21:34 +0000 2012                27154.0   \n",
       "1         DrTeckKhong  Sat May 30 16:46:20 +0000 2009                62208.0   \n",
       "2             EU_MARE  Wed Jan 04 11:13:08 +0000 2012                 2705.0   \n",
       "3          erikgeddes  Tue May 31 20:22:38 +0000 2011                   21.0   \n",
       "4                 NaN  Wed Jan 04 11:13:08 +0000 2012                 2705.0   \n",
       "\n",
       "   user_followers_count  user_friends_count user_listed_count  \\\n",
       "0               59652.0              1965.0             854.0   \n",
       "1                4773.0              6282.0             242.0   \n",
       "2               32987.0              9121.0             677.0   \n",
       "3                5044.0               398.0             205.0   \n",
       "4               32987.0              9121.0             677.0   \n",
       "\n",
       "  user_statuses_count  \n",
       "0             69671.0  \n",
       "1            139670.0  \n",
       "2             36328.0  \n",
       "3              1789.0  \n",
       "4             36328.0  \n",
       "\n",
       "[5 rows x 25 columns]"
      ]
     },
     "execution_count": 3,
     "metadata": {},
     "output_type": "execute_result"
    }
   ],
   "source": [
    "df.head()"
   ]
  },
  {
   "cell_type": "code",
   "execution_count": null,
   "id": "4c3891ab-8010-4d03-9ec0-30e48543394e",
   "metadata": {},
   "outputs": [],
   "source": []
  },
  {
   "cell_type": "code",
   "execution_count": 4,
   "id": "b65bd8e3-e0f0-4ec8-82cb-3a0eb1d58e05",
   "metadata": {},
   "outputs": [
    {
     "data": {
      "text/plain": [
       "'i am testing alex  than x   '"
      ]
     },
     "execution_count": 4,
     "metadata": {},
     "output_type": "execute_result"
    }
   ],
   "source": [
    "def strip_punc_lower_http(txt):\n",
    "    txt = re.sub(r'''(?i)\\b((?:https?://|www\\d{0,3}[.]|[a-z0-9.\\-]+[.][a-z]{2,4}/)(?:[^\\s()<>]+|\\(([^\\s()<>]+|(\\([^\\s()<>]+\\)))*\\))+(?:\\(([^\\s()<>]+|(\\([^\\s()<>]+\\)))*\\)|[^\\s`!()\\[\\]{};:'\".,<>?«»“”‘’]))''', \" \", txt)\n",
    "\n",
    "    txt = re.sub(pattern= \"[^\\w\\s]\",\n",
    "            repl=\"\",\n",
    "            string=txt).lower()\n",
    "    \n",
    "    txt = re.sub(pattern= \"[0-9]\",\n",
    "            repl=\"\",\n",
    "            string=txt)\n",
    "    \n",
    "    return txt\n",
    "strip_punc_lower_http('I am, testing #ALEX > than X 10. https://scikit-learn.org/stable/modules/generated/sklearn.feature_extraction.text.TfidfVectorizer.html')"
   ]
  },
  {
   "cell_type": "code",
   "execution_count": 5,
   "id": "b54f8e39-7a64-483c-ad65-a40359db01a7",
   "metadata": {},
   "outputs": [],
   "source": [
    "df['text'] = df['text'].apply(lambda x: strip_punc_lower_http(x))"
   ]
  },
  {
   "cell_type": "code",
   "execution_count": 6,
   "id": "7e92be39-ff95-4a32-b909-d49b85a39c0a",
   "metadata": {},
   "outputs": [
    {
     "data": {
      "text/plain": [
       "0    pounding the streets of redland this morning w...\n",
       "1    the ukip battle bus is coming please support m...\n",
       "2    yesterday was th european maritime day today i...\n",
       "3    thesnp depute leader and candidate for moray a...\n",
       "4    cacophonic that and fox hunting and dementia t...\n",
       "Name: text, dtype: object"
      ]
     },
     "execution_count": 6,
     "metadata": {},
     "output_type": "execute_result"
    }
   ],
   "source": [
    "df['text'].head()"
   ]
  },
  {
   "cell_type": "code",
   "execution_count": null,
   "id": "173e0226-0659-4d0b-a450-ccce92179e7f",
   "metadata": {},
   "outputs": [],
   "source": []
  },
  {
   "cell_type": "code",
   "execution_count": 7,
   "id": "9370ced4-b287-4459-ba15-f1160f105323",
   "metadata": {},
   "outputs": [],
   "source": [
    "my_stop_words = ['wonderful', 'did', 'didnt', 'issue', 'issues', 'actually', 'id','th',\n",
    "                'community']"
   ]
  },
  {
   "cell_type": "code",
   "execution_count": 8,
   "id": "32b1c9b2-b2d1-4bb3-be48-234e75efe27b",
   "metadata": {},
   "outputs": [],
   "source": [
    "my_stop_words = text.ENGLISH_STOP_WORDS.union(my_stop_words)"
   ]
  },
  {
   "cell_type": "code",
   "execution_count": null,
   "id": "f3cb65dc-4b64-4df8-85e9-502ca25eb54c",
   "metadata": {},
   "outputs": [],
   "source": []
  },
  {
   "cell_type": "code",
   "execution_count": 9,
   "id": "6d37db30-8060-410a-a47b-6830a2a39201",
   "metadata": {},
   "outputs": [],
   "source": [
    "tv_180docs = TfidfVectorizer(stop_words=my_stop_words, min_df=180)\n",
    "dtm_tv_180docs = tv_180docs.fit_transform(list(df['text']))"
   ]
  },
  {
   "cell_type": "code",
   "execution_count": 10,
   "id": "2e4ce9d1-faf0-4f08-9fac-ab6bb9b165a9",
   "metadata": {},
   "outputs": [
    {
     "data": {
      "text/plain": [
       "(3189504, 17390)"
      ]
     },
     "execution_count": 10,
     "metadata": {},
     "output_type": "execute_result"
    }
   ],
   "source": [
    "dtm_tv_180docs.shape"
   ]
  },
  {
   "cell_type": "code",
   "execution_count": 11,
   "id": "37ad67ee-5edd-4f32-94ca-e89db26a807c",
   "metadata": {},
   "outputs": [],
   "source": [
    "words_180 = list(np.asarray(tv_180docs.get_feature_names_out()))"
   ]
  },
  {
   "cell_type": "code",
   "execution_count": null,
   "id": "75740d83-0a8d-498f-9af3-f06c70c4e970",
   "metadata": {},
   "outputs": [],
   "source": []
  },
  {
   "cell_type": "code",
   "execution_count": 16,
   "id": "ce71dec7-e945-49f2-aae7-e069217736fe",
   "metadata": {},
   "outputs": [
    {
     "data": {
      "text/plain": [
       "<corextopic.corextopic.Corex at 0x7fc334b49790>"
      ]
     },
     "execution_count": 16,
     "metadata": {},
     "output_type": "execute_result"
    }
   ],
   "source": [
    "corex_model = ct.Corex(n_hidden=  30, ### YOUR NUMBER OF TOPICS HERE\n",
    "                       words=   words_180,   ### YOUR VOCABULARY HERE\n",
    "                       seed=1\n",
    "                       )\n",
    "\n",
    "corex_model.fit(dtm_tv_180docs,       ### YOUR DOCUMENT TERM MATRIX HERE\n",
    "                words= words_180   , ### YOUR VOCABULARY HERE\n",
    "                docs= df['text']     ### YOUR DOCUMENT SERIES HERE\n",
    "                )"
   ]
  },
  {
   "cell_type": "code",
   "execution_count": 17,
   "id": "f8a0686f-315d-44d9-af00-3dcafc07c7d6",
   "metadata": {
    "tags": []
   },
   "outputs": [
    {
     "name": "stdout",
     "output_type": "stream",
     "text": [
      "0: great, eu, thanks, thank, congratulations, brexit, happy, deal, tax, trump\n",
      "1: emmyzen, aurorablogspot, julienfouchet, abcpoppins, ulrikeguerot, wernert_man, katarinabarley, inlimbobrexit, w_a_t_o_n, csibike\n",
      "2: yellabelly, pilgrim, jamieb, bostonpoliceuk, stevemelady, hastieneill, bikerrebel, bostonboro, un_women, mali\n",
      "3: ist, es, sverige, lgbt, matthancock, mindful, missions, muslim, nah, nearing\n",
      "4: trolleywatch, inmo, trolleys, wards, monster, ok, peaceful, pmb, precautions, resounding\n",
      "5: advise, labourdefra, lens, math, michellerempel, nationalhousingstrategy, pfew_hq, portions, qualities, rest\n",
      "6: attracted, midwives, nchildersmep, pale, personalised, polcan, preserved, railroad, resume, max\n",
      "7: abundance, newzealand, note, oops, parcel, paulblomfieldmp, pigs, pt, rbkc, repcheri\n",
      "8: aapi, mmiwg, nzs, otoole, paulmurphy_td, pcs, peace, pharmacies, predecessor, prep\n",
      "9: activity, playing, preschool, registrations, repsamgraves, richardmarlesmp, scotch, sellers, senatorfischer, shelby\n",
      "10: adults, packages, panorama, pauline, pbs, polar, precision, rankings, repair, replipinski\n",
      "11: acceptance, maines, mercy, owenbonnici, pre, relatives, reminded, resilience, retweeting, live\n",
      "12: activist, officers, olive, palm, possibilities, programmes, readers, refreshing, relocated, repdannydavis\n",
      "13: affordablehousing, pd, peoplesmomentum, perkins, plc, quarterly, queensland, receipt, retained, sinclair\n",
      "14: advised, indias, islands, jaymitchinson, metiria, nevada, owensmith_mp, oz, pcs_union, pg\n",
      "15: amtrak, viral, texas, songwriters, serauk, secretarysonny, seat, realm, printing, premiers\n",
      "16: alberta, leone, listing, mtg, names, neck, nfu, originally, pediatric, landfall\n",
      "17: audio, message, metro, mhclg, mood, morningireland, oregon, replawrence, menstrual, resiliency\n",
      "18: angle, thinkers, therapy, sticks, segment, sacred, producing, piers, organic, operational\n",
      "19: academic, owenjones, patrol, pens, portal, positives, protein, punch, okay, recovered\n",
      "20: accent, submitted, staffs, sourced, sme, slippery, repealedtheth, protecttheprotectors, praises, plays\n",
      "21: advertise, leo, melting, min, murraywatt, nows, ops, pantomime, paterson, powered\n",
      "22: abridgen, hackneyabbott, hmp, ict, jfostermep, ld, liberated, luckily, minnesotans, progression\n",
      "23: adjournment, luis, marches, mattchorley, metpoliceuk, mock, mohammed, nets, oslo, parent\n",
      "24: believer, op, props, psychology, pumped, recess, repmarcykaptur, robwittman, scc, scotlab\n",
      "25: accompanying, mans, maxime, multimillion, nationalvoterregistrationday, phones, presence, quiet, random, shoulders\n",
      "26: alike, rorystewartuk, rtept, sand, seas, senatorisakson, signing, stamps, stressful, preservation\n",
      "27: accomplish, ont, overlooked, pas, peoplespca, preparation, radiotherapy, remainder, representations, researchers\n",
      "28: affecting, melt, msg, nat, oxbridge, partnerships, printed, profession, retirement, reuse\n",
      "29: acc, nigelmp, pbp, poultry, prague, province, rains, sample, sduvall, senislaw\n"
     ]
    }
   ],
   "source": [
    "topics = corex_model.get_topics()\n",
    "for n,topic in enumerate(topics):\n",
    "    topic_words,_,_ = zip(*topic)\n",
    "    print(f'{n}: {\", \".join(topic_words)}')"
   ]
  },
  {
   "cell_type": "code",
   "execution_count": 20,
   "id": "a2f27ce4-954d-45aa-a561-46b0a48a8947",
   "metadata": {
    "tags": []
   },
   "outputs": [
    {
     "data": {
      "text/plain": [
       "array([ 3.96743008e-02,  4.46996306e-04,  2.17814989e-06,  1.09870887e-09,\n",
       "        2.94944689e-10, -2.42092862e-09, -8.20481412e-09, -1.35065520e-08,\n",
       "       -1.50525530e-08, -4.20803892e-08])"
      ]
     },
     "execution_count": 20,
     "metadata": {},
     "output_type": "execute_result"
    }
   ],
   "source": [
    "corex_model.tcs"
   ]
  },
  {
   "cell_type": "code",
   "execution_count": null,
   "id": "9b8badaf-4c04-4a39-8baf-6ece3d476953",
   "metadata": {},
   "outputs": [],
   "source": []
  },
  {
   "cell_type": "code",
   "execution_count": 74,
   "id": "55012116-1f41-437a-8587-0bfe0a8f1907",
   "metadata": {},
   "outputs": [],
   "source": [
    "# words_30_semi = list(np.asarray(tv_30docs.get_feature_names_out()))"
   ]
  },
  {
   "cell_type": "code",
   "execution_count": null,
   "id": "16435636-1e1c-471f-b51c-49e2eb6d06b0",
   "metadata": {},
   "outputs": [],
   "source": []
  },
  {
   "cell_type": "code",
   "execution_count": 12,
   "id": "aa6f202c-a497-4cfa-ac94-f9f890baed2b",
   "metadata": {},
   "outputs": [
    {
     "data": {
      "text/plain": [
       "<corextopic.corextopic.Corex at 0x7fc21135bdc0>"
      ]
     },
     "execution_count": 12,
     "metadata": {},
     "output_type": "execute_result"
    }
   ],
   "source": [
    "anchor_words =[\n",
    "                ['immigration', 'immigrant'],\n",
    "                ['christian', 'hindu', 'muslim', 'jewish', 'religion'],\n",
    "                ['trump'],\n",
    "                ['brexit', 'eu', 'leave'],\n",
    "                ['women','violence', 'rights'],\n",
    "                ['health', 'care','insurance', 'mental'],\n",
    "                ['climate', 'change'],\n",
    "                ['jobs', 'economy', 'business']\n",
    "                ]\n",
    "\n",
    "\n",
    "\n",
    "\n",
    "corex_semi = ct.Corex(n_hidden= 8, ### YOUR NUMBER OF TOPICS HERE\n",
    "                       words=   words_180,   ### YOUR VOCABULARY HERE\n",
    "                       seed=1\n",
    "                       )\n",
    "\n",
    "corex_semi.fit(dtm_tv_180docs,       ### YOUR DOCUMENT TERM MATRIX HERE\n",
    "                words= words_180   , ### YOUR VOCABULARY HERE\n",
    "                docs= df['text'],\n",
    "                anchors=anchor_words,\n",
    "                anchor_strength = 3\n",
    "                )"
   ]
  },
  {
   "cell_type": "code",
   "execution_count": 13,
   "id": "bc8be3b7-c321-4631-887d-574c2eb1dd5b",
   "metadata": {},
   "outputs": [
    {
     "name": "stdout",
     "output_type": "stream",
     "text": [
      "0: ist, es, accounts, importantly, inherited, linking, longstanding, magnitude, mould, mystery\n",
      "1: jewish, muslim, christian, religion, hindu, ramadan, sameach, mubarak, chag, eid\n",
      "2: academic, paramount, posts, pq, printed, privatising, productivity, professors, reaffirming, redress\n",
      "3: brexit, eu, leave, deal, uk, referendum, customs, theresa, mays, vote\n",
      "4: suu, kyi, aung, accountability, rightfully, relaunch, relationships, registering, reg, reconnect\n",
      "5: health, care, mental, insurance, preexisting, coverage, aca, affordable, protectourcare, premiums\n",
      "6: climate, change, climatechange, emissions, action, actonclimate, fossil, cop, carbon, climateaction\n",
      "7: abused, listen, measure, midwife, modest, panorama, parcel, piling, pleas, praises\n"
     ]
    }
   ],
   "source": [
    "topics_semi = corex_semi.get_topics()\n",
    "for n,topic in enumerate(topics_semi):\n",
    "    topic_words,_,_ = zip(*topic)\n",
    "    print(f'{n}: {\", \".join(topic_words)}')"
   ]
  },
  {
   "cell_type": "code",
   "execution_count": 31,
   "id": "0e37848c-6006-47a8-bd55-fc5e18df6f2c",
   "metadata": {},
   "outputs": [
    {
     "name": "stdout",
     "output_type": "stream",
     "text": [
      "Print topics in text file\n"
     ]
    }
   ],
   "source": [
    "from corextopic import vis_topic as vt\n",
    "vt.vis_rep(corex_semi, column_label=words, prefix='topic-model-example')"
   ]
  },
  {
   "cell_type": "code",
   "execution_count": 15,
   "id": "4e6e97e3-274d-45b8-806a-a3855208e710",
   "metadata": {},
   "outputs": [
    {
     "data": {
      "text/plain": [
       "array([ 6.23970167e-06,  4.07306384e-04,  6.86448580e-08,  3.62780707e-02,\n",
       "       -6.35507287e-08,  1.67863616e-02,  2.81511568e-03,  1.99601536e-08])"
      ]
     },
     "execution_count": 15,
     "metadata": {},
     "output_type": "execute_result"
    }
   ],
   "source": [
    "(corex_semi.tcs\n",
    " \n",
    ")"
   ]
  },
  {
   "cell_type": "code",
   "execution_count": null,
   "id": "542fb175-7915-4896-8705-e8389ea60435",
   "metadata": {},
   "outputs": [],
   "source": []
  }
 ],
 "metadata": {
  "kernelspec": {
   "display_name": "Python 3 (ipykernel)",
   "language": "python",
   "name": "python3"
  },
  "language_info": {
   "codemirror_mode": {
    "name": "ipython",
    "version": 3
   },
   "file_extension": ".py",
   "mimetype": "text/x-python",
   "name": "python",
   "nbconvert_exporter": "python",
   "pygments_lexer": "ipython3",
   "version": "3.8.13"
  }
 },
 "nbformat": 4,
 "nbformat_minor": 5
}
