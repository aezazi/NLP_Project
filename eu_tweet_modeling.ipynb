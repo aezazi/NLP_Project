{
 "cells": [
  {
   "cell_type": "code",
   "execution_count": 173,
   "id": "e5868151-5f3e-4fbe-a6a2-865671993dbc",
   "metadata": {},
   "outputs": [],
   "source": [
    "%reset -fs"
   ]
  },
  {
   "cell_type": "code",
   "execution_count": 143,
   "id": "d977d3b6-4547-4e45-9884-9a03f8b95006",
   "metadata": {},
   "outputs": [
    {
     "name": "stderr",
     "output_type": "stream",
     "text": [
      "[nltk_data] Downloading package punkt to /Users/solo/nltk_data...\n",
      "[nltk_data]   Package punkt is already up-to-date!\n",
      "[nltk_data] Downloading package averaged_perceptron_tagger to\n",
      "[nltk_data]     /Users/solo/nltk_data...\n",
      "[nltk_data]   Package averaged_perceptron_tagger is already up-to-\n",
      "[nltk_data]       date!\n"
     ]
    }
   ],
   "source": [
    "import pandas as pd\n",
    "import numpy as np\n",
    "\n",
    "from sklearn.model_selection import train_test_split\n",
    "from sklearn.feature_extraction.text import CountVectorizer, TfidfVectorizer\n",
    "from sklearn.naive_bayes import MultinomialNB, GaussianNB\n",
    "from sklearn.decomposition import TruncatedSVD, NMF\n",
    "\n",
    "import nltk\n",
    "nltk.download('punkt')\n",
    "nltk.download('averaged_perceptron_tagger')\n",
    "\n",
    "from nltk.tokenize import MWETokenizer, word_tokenize\n",
    "from nltk.tag import pos_tag\n",
    "from nltk.stem.lancaster import LancasterStemmer\n",
    "\n",
    "import re"
   ]
  },
  {
   "cell_type": "code",
   "execution_count": 144,
   "id": "9e5f31b9-70b9-42e5-9192-3a36e06eb580",
   "metadata": {},
   "outputs": [
    {
     "name": "stderr",
     "output_type": "stream",
     "text": [
      "/var/folders/gc/kgfpjt4x1d5c1thdk2sl_2hr0000gn/T/ipykernel_10557/3349357611.py:1: DtypeWarning: Columns (8) have mixed types. Specify dtype option on import or set low_memory=False.\n",
      "  df = pd.read_csv('eu_tweet_df_eda1.csv')\n"
     ]
    }
   ],
   "source": [
    "df = pd.read_csv('eu_tweet_df_eda1.csv')"
   ]
  },
  {
   "cell_type": "code",
   "execution_count": null,
   "id": "94b2148c-7ec3-4947-aa20-6dc1990f6080",
   "metadata": {},
   "outputs": [],
   "source": []
  },
  {
   "cell_type": "code",
   "execution_count": 145,
   "id": "ecb52351-79e2-4224-961f-38066e4c2144",
   "metadata": {},
   "outputs": [
    {
     "data": {
      "text/html": [
       "<div>\n",
       "<style scoped>\n",
       "    .dataframe tbody tr th:only-of-type {\n",
       "        vertical-align: middle;\n",
       "    }\n",
       "\n",
       "    .dataframe tbody tr th {\n",
       "        vertical-align: top;\n",
       "    }\n",
       "\n",
       "    .dataframe thead th {\n",
       "        text-align: right;\n",
       "    }\n",
       "</style>\n",
       "<table border=\"1\" class=\"dataframe\">\n",
       "  <thead>\n",
       "    <tr style=\"text-align: right;\">\n",
       "      <th></th>\n",
       "      <th>id</th>\n",
       "      <th>created_at</th>\n",
       "      <th>text</th>\n",
       "      <th>user_name</th>\n",
       "      <th>user_screen_name</th>\n",
       "      <th>user_id</th>\n",
       "      <th>user_description</th>\n",
       "      <th>user_location</th>\n",
       "      <th>user_verified</th>\n",
       "      <th>lang</th>\n",
       "      <th>...</th>\n",
       "      <th>in_reply_to_user_id</th>\n",
       "      <th>retweet_count</th>\n",
       "      <th>retweet_id</th>\n",
       "      <th>retweet_screen_name</th>\n",
       "      <th>user_created_at</th>\n",
       "      <th>user_favourites_count</th>\n",
       "      <th>user_followers_count</th>\n",
       "      <th>user_friends_count</th>\n",
       "      <th>user_listed_count</th>\n",
       "      <th>user_statuses_count</th>\n",
       "    </tr>\n",
       "  </thead>\n",
       "  <tbody>\n",
       "    <tr>\n",
       "      <th>0</th>\n",
       "      <td>866239077045207040</td>\n",
       "      <td>Sun May 21 10:27:44 +0000 2017</td>\n",
       "      <td>Pounding the streets of Redland this morning w...</td>\n",
       "      <td>Green💚🌻Molly</td>\n",
       "      <td>GreenPartyMolly</td>\n",
       "      <td>726372601</td>\n",
       "      <td>Molly Scott Cato 👋 Green Party External Comms ...</td>\n",
       "      <td>South West</td>\n",
       "      <td>False</td>\n",
       "      <td>en</td>\n",
       "      <td>...</td>\n",
       "      <td>NaN</td>\n",
       "      <td>23.0</td>\n",
       "      <td>8.662375e+17</td>\n",
       "      <td>bristol_yg</td>\n",
       "      <td>Mon Jul 30 16:21:34 +0000 2012</td>\n",
       "      <td>27154.0</td>\n",
       "      <td>59652.0</td>\n",
       "      <td>1965.0</td>\n",
       "      <td>854.0</td>\n",
       "      <td>69671.0</td>\n",
       "    </tr>\n",
       "    <tr>\n",
       "      <th>1</th>\n",
       "      <td>866232717196840960</td>\n",
       "      <td>Sun May 21 10:02:28 +0000 2017</td>\n",
       "      <td>The UKIP BATTLE BUS is coming; please support ...</td>\n",
       "      <td>Dr Julia Reid PhD</td>\n",
       "      <td>julia_reid</td>\n",
       "      <td>43554444</td>\n",
       "      <td>Former Brexit Party MEP for the SW (2014-19) -...</td>\n",
       "      <td>Calne</td>\n",
       "      <td>True</td>\n",
       "      <td>en</td>\n",
       "      <td>...</td>\n",
       "      <td>NaN</td>\n",
       "      <td>38.0</td>\n",
       "      <td>8.662321e+17</td>\n",
       "      <td>DrTeckKhong</td>\n",
       "      <td>Sat May 30 16:46:20 +0000 2009</td>\n",
       "      <td>62208.0</td>\n",
       "      <td>4773.0</td>\n",
       "      <td>6282.0</td>\n",
       "      <td>242.0</td>\n",
       "      <td>139670.0</td>\n",
       "    </tr>\n",
       "    <tr>\n",
       "      <th>2</th>\n",
       "      <td>866236815463862272</td>\n",
       "      <td>Sun May 21 10:18:45 +0000 2017</td>\n",
       "      <td>Yesterday was 10th European Maritime Day, toda...</td>\n",
       "      <td>Catherine Bearder🇪🇺 🇺🇦🇺🇦🇪🇺🔶</td>\n",
       "      <td>catherinemep</td>\n",
       "      <td>454779231</td>\n",
       "      <td>Lib Dem. Board of IFAW and Council of Unlock D...</td>\n",
       "      <td>Oxford</td>\n",
       "      <td>True</td>\n",
       "      <td>en</td>\n",
       "      <td>...</td>\n",
       "      <td>NaN</td>\n",
       "      <td>21.0</td>\n",
       "      <td>8.662204e+17</td>\n",
       "      <td>EU_MARE</td>\n",
       "      <td>Wed Jan 04 11:13:08 +0000 2012</td>\n",
       "      <td>2705.0</td>\n",
       "      <td>32987.0</td>\n",
       "      <td>9121.0</td>\n",
       "      <td>677.0</td>\n",
       "      <td>36328.0</td>\n",
       "    </tr>\n",
       "    <tr>\n",
       "      <th>3</th>\n",
       "      <td>866236868404314112</td>\n",
       "      <td>Sun May 21 10:18:57 +0000 2017</td>\n",
       "      <td>.@theSNP Depute Leader and candidate for Moray...</td>\n",
       "      <td>Ian Hudghton</td>\n",
       "      <td>HudghtonSNP</td>\n",
       "      <td>308677137</td>\n",
       "      <td>SNP President 2005 - 2020. SNP Member of the E...</td>\n",
       "      <td>Scotland</td>\n",
       "      <td>False</td>\n",
       "      <td>en</td>\n",
       "      <td>...</td>\n",
       "      <td>NaN</td>\n",
       "      <td>6.0</td>\n",
       "      <td>8.662227e+17</td>\n",
       "      <td>erikgeddes</td>\n",
       "      <td>Tue May 31 20:22:38 +0000 2011</td>\n",
       "      <td>21.0</td>\n",
       "      <td>5044.0</td>\n",
       "      <td>398.0</td>\n",
       "      <td>205.0</td>\n",
       "      <td>1789.0</td>\n",
       "    </tr>\n",
       "    <tr>\n",
       "      <th>4</th>\n",
       "      <td>866233710714257408</td>\n",
       "      <td>Sun May 21 10:06:25 +0000 2017</td>\n",
       "      <td>@Cacophonic That, and fox hunting and dementia...</td>\n",
       "      <td>Catherine Bearder🇪🇺 🇺🇦🇺🇦🇪🇺🔶</td>\n",
       "      <td>catherinemep</td>\n",
       "      <td>454779231</td>\n",
       "      <td>Lib Dem. Board of IFAW and Council of Unlock D...</td>\n",
       "      <td>Oxford</td>\n",
       "      <td>True</td>\n",
       "      <td>en</td>\n",
       "      <td>...</td>\n",
       "      <td>25067514.0</td>\n",
       "      <td>0.0</td>\n",
       "      <td>NaN</td>\n",
       "      <td>NaN</td>\n",
       "      <td>Wed Jan 04 11:13:08 +0000 2012</td>\n",
       "      <td>2705.0</td>\n",
       "      <td>32987.0</td>\n",
       "      <td>9121.0</td>\n",
       "      <td>677.0</td>\n",
       "      <td>36328.0</td>\n",
       "    </tr>\n",
       "  </tbody>\n",
       "</table>\n",
       "<p>5 rows × 25 columns</p>\n",
       "</div>"
      ],
      "text/plain": [
       "                   id                      created_at  \\\n",
       "0  866239077045207040  Sun May 21 10:27:44 +0000 2017   \n",
       "1  866232717196840960  Sun May 21 10:02:28 +0000 2017   \n",
       "2  866236815463862272  Sun May 21 10:18:45 +0000 2017   \n",
       "3  866236868404314112  Sun May 21 10:18:57 +0000 2017   \n",
       "4  866233710714257408  Sun May 21 10:06:25 +0000 2017   \n",
       "\n",
       "                                                text  \\\n",
       "0  Pounding the streets of Redland this morning w...   \n",
       "1  The UKIP BATTLE BUS is coming; please support ...   \n",
       "2  Yesterday was 10th European Maritime Day, toda...   \n",
       "3  .@theSNP Depute Leader and candidate for Moray...   \n",
       "4  @Cacophonic That, and fox hunting and dementia...   \n",
       "\n",
       "                     user_name user_screen_name    user_id  \\\n",
       "0                 Green💚🌻Molly  GreenPartyMolly  726372601   \n",
       "1            Dr Julia Reid PhD       julia_reid   43554444   \n",
       "2  Catherine Bearder🇪🇺 🇺🇦🇺🇦🇪🇺🔶     catherinemep  454779231   \n",
       "3                 Ian Hudghton      HudghtonSNP  308677137   \n",
       "4  Catherine Bearder🇪🇺 🇺🇦🇺🇦🇪🇺🔶     catherinemep  454779231   \n",
       "\n",
       "                                    user_description user_location  \\\n",
       "0  Molly Scott Cato 👋 Green Party External Comms ...    South West   \n",
       "1  Former Brexit Party MEP for the SW (2014-19) -...         Calne   \n",
       "2  Lib Dem. Board of IFAW and Council of Unlock D...        Oxford   \n",
       "3  SNP President 2005 - 2020. SNP Member of the E...      Scotland   \n",
       "4  Lib Dem. Board of IFAW and Council of Unlock D...        Oxford   \n",
       "\n",
       "  user_verified lang  ... in_reply_to_user_id retweet_count    retweet_id  \\\n",
       "0         False   en  ...                 NaN          23.0  8.662375e+17   \n",
       "1          True   en  ...                 NaN          38.0  8.662321e+17   \n",
       "2          True   en  ...                 NaN          21.0  8.662204e+17   \n",
       "3         False   en  ...                 NaN           6.0  8.662227e+17   \n",
       "4          True   en  ...          25067514.0           0.0           NaN   \n",
       "\n",
       "  retweet_screen_name                 user_created_at  user_favourites_count  \\\n",
       "0          bristol_yg  Mon Jul 30 16:21:34 +0000 2012                27154.0   \n",
       "1         DrTeckKhong  Sat May 30 16:46:20 +0000 2009                62208.0   \n",
       "2             EU_MARE  Wed Jan 04 11:13:08 +0000 2012                 2705.0   \n",
       "3          erikgeddes  Tue May 31 20:22:38 +0000 2011                   21.0   \n",
       "4                 NaN  Wed Jan 04 11:13:08 +0000 2012                 2705.0   \n",
       "\n",
       "   user_followers_count  user_friends_count user_listed_count  \\\n",
       "0               59652.0              1965.0             854.0   \n",
       "1                4773.0              6282.0             242.0   \n",
       "2               32987.0              9121.0             677.0   \n",
       "3                5044.0               398.0             205.0   \n",
       "4               32987.0              9121.0             677.0   \n",
       "\n",
       "  user_statuses_count  \n",
       "0             69671.0  \n",
       "1            139670.0  \n",
       "2             36328.0  \n",
       "3              1789.0  \n",
       "4             36328.0  \n",
       "\n",
       "[5 rows x 25 columns]"
      ]
     },
     "execution_count": 145,
     "metadata": {},
     "output_type": "execute_result"
    }
   ],
   "source": [
    "df.head()"
   ]
  },
  {
   "cell_type": "code",
   "execution_count": 146,
   "id": "2e5a6a08-81fd-4e0b-80d4-0550f3242c6b",
   "metadata": {},
   "outputs": [
    {
     "data": {
      "text/plain": [
       "(3189504, 25)"
      ]
     },
     "execution_count": 146,
     "metadata": {},
     "output_type": "execute_result"
    }
   ],
   "source": [
    "df.shape"
   ]
  },
  {
   "cell_type": "code",
   "execution_count": 147,
   "id": "a856c646-5c54-48c6-a180-8f1aac9607d5",
   "metadata": {},
   "outputs": [
    {
     "data": {
      "text/plain": [
       "47826"
      ]
     },
     "execution_count": 147,
     "metadata": {},
     "output_type": "execute_result"
    }
   ],
   "source": [
    "df['user_description'].isnull().sum()"
   ]
  },
  {
   "cell_type": "code",
   "execution_count": null,
   "id": "f0edc123-dd1a-4198-b281-8a47894963a8",
   "metadata": {},
   "outputs": [],
   "source": [
    "\n"
   ]
  },
  {
   "cell_type": "code",
   "execution_count": null,
   "id": "4b29628f-1265-44e2-a206-cedadda8d84b",
   "metadata": {},
   "outputs": [],
   "source": []
  },
  {
   "cell_type": "code",
   "execution_count": 148,
   "id": "99fb2890-5f4c-4aeb-850d-fe9c1d01228c",
   "metadata": {},
   "outputs": [
    {
     "data": {
      "text/plain": [
       "'i am testing alex  than x '"
      ]
     },
     "execution_count": 148,
     "metadata": {},
     "output_type": "execute_result"
    }
   ],
   "source": [
    "\n",
    "def strip_punc_lower(txt):\n",
    "    txt = re.sub(pattern= \"[^\\w\\s]\",\n",
    "            repl=\"\",\n",
    "            string=txt).lower()\n",
    "    \n",
    "    txt = re.sub(pattern= \"[0-9]\",\n",
    "            repl=\"\",\n",
    "            string=txt)\n",
    "    \n",
    "    return txt\n",
    "strip_punc_lower('I am, testing #ALEX > than X 10.')"
   ]
  },
  {
   "cell_type": "code",
   "execution_count": 149,
   "id": "210cfe29-b903-4643-9bfa-9985cb7adb82",
   "metadata": {},
   "outputs": [],
   "source": [
    "df['text'] = df['text'].apply(lambda x: strip_punc_lower(x))"
   ]
  },
  {
   "cell_type": "code",
   "execution_count": 150,
   "id": "7a79d52a-e9eb-49df-8fa6-ba250041e9dd",
   "metadata": {},
   "outputs": [
    {
     "data": {
      "text/plain": [
       "(3189504, 25)"
      ]
     },
     "execution_count": 150,
     "metadata": {},
     "output_type": "execute_result"
    }
   ],
   "source": [
    "df.shape"
   ]
  },
  {
   "cell_type": "code",
   "execution_count": 151,
   "id": "b7ac1e30-80db-4282-85ce-72c5c6f42c4f",
   "metadata": {},
   "outputs": [],
   "source": [
    "# def multi_word(txt):\n",
    "#     mwe_tok = MWETokenizer([('i', 'am'), ('i', 'was'), ('i', 'will'), ('i', 'would')])\n",
    "#     return  mwe_tok.tokenize(word_tokenize(txt))\n",
    "# print((multi_word('i am not sure i was, but i will find out if i would')))"
   ]
  },
  {
   "cell_type": "code",
   "execution_count": 152,
   "id": "af230d3f-f680-4447-a1b0-f589dce1fa3b",
   "metadata": {},
   "outputs": [],
   "source": [
    "# df['text'] = df['text'].apply(lambda x: multi_word(x))"
   ]
  },
  {
   "cell_type": "code",
   "execution_count": 153,
   "id": "34a02fb5-f809-41fd-8d3e-6263ca4a9ed6",
   "metadata": {},
   "outputs": [],
   "source": [
    "# def join_me(l):\n",
    "#     return ' '.join(l)\n",
    "# join_me(['i_am', 'not', 'sure', 'i_was', ',', 'but', 'i_will', 'find', 'out', 'if', 'i_would'])"
   ]
  },
  {
   "cell_type": "code",
   "execution_count": 154,
   "id": "3f30c215-ee2b-4e08-8428-ba3647d42360",
   "metadata": {},
   "outputs": [],
   "source": [
    "# df['text'] = df['text'].apply(lambda x: join_me(x))"
   ]
  },
  {
   "cell_type": "code",
   "execution_count": 155,
   "id": "d568d440-7366-4c11-8b2e-cc87146d7908",
   "metadata": {},
   "outputs": [
    {
     "data": {
      "text/html": [
       "<div>\n",
       "<style scoped>\n",
       "    .dataframe tbody tr th:only-of-type {\n",
       "        vertical-align: middle;\n",
       "    }\n",
       "\n",
       "    .dataframe tbody tr th {\n",
       "        vertical-align: top;\n",
       "    }\n",
       "\n",
       "    .dataframe thead th {\n",
       "        text-align: right;\n",
       "    }\n",
       "</style>\n",
       "<table border=\"1\" class=\"dataframe\">\n",
       "  <thead>\n",
       "    <tr style=\"text-align: right;\">\n",
       "      <th></th>\n",
       "      <th>id</th>\n",
       "      <th>created_at</th>\n",
       "      <th>text</th>\n",
       "      <th>user_name</th>\n",
       "      <th>user_screen_name</th>\n",
       "      <th>user_id</th>\n",
       "      <th>user_description</th>\n",
       "      <th>user_location</th>\n",
       "      <th>user_verified</th>\n",
       "      <th>lang</th>\n",
       "      <th>...</th>\n",
       "      <th>in_reply_to_user_id</th>\n",
       "      <th>retweet_count</th>\n",
       "      <th>retweet_id</th>\n",
       "      <th>retweet_screen_name</th>\n",
       "      <th>user_created_at</th>\n",
       "      <th>user_favourites_count</th>\n",
       "      <th>user_followers_count</th>\n",
       "      <th>user_friends_count</th>\n",
       "      <th>user_listed_count</th>\n",
       "      <th>user_statuses_count</th>\n",
       "    </tr>\n",
       "  </thead>\n",
       "  <tbody>\n",
       "    <tr>\n",
       "      <th>0</th>\n",
       "      <td>866239077045207040</td>\n",
       "      <td>Sun May 21 10:27:44 +0000 2017</td>\n",
       "      <td>pounding the streets of redland this morning w...</td>\n",
       "      <td>Green💚🌻Molly</td>\n",
       "      <td>GreenPartyMolly</td>\n",
       "      <td>726372601</td>\n",
       "      <td>Molly Scott Cato 👋 Green Party External Comms ...</td>\n",
       "      <td>South West</td>\n",
       "      <td>False</td>\n",
       "      <td>en</td>\n",
       "      <td>...</td>\n",
       "      <td>NaN</td>\n",
       "      <td>23.0</td>\n",
       "      <td>8.662375e+17</td>\n",
       "      <td>bristol_yg</td>\n",
       "      <td>Mon Jul 30 16:21:34 +0000 2012</td>\n",
       "      <td>27154.0</td>\n",
       "      <td>59652.0</td>\n",
       "      <td>1965.0</td>\n",
       "      <td>854.0</td>\n",
       "      <td>69671.0</td>\n",
       "    </tr>\n",
       "    <tr>\n",
       "      <th>1</th>\n",
       "      <td>866232717196840960</td>\n",
       "      <td>Sun May 21 10:02:28 +0000 2017</td>\n",
       "      <td>the ukip battle bus is coming please support m...</td>\n",
       "      <td>Dr Julia Reid PhD</td>\n",
       "      <td>julia_reid</td>\n",
       "      <td>43554444</td>\n",
       "      <td>Former Brexit Party MEP for the SW (2014-19) -...</td>\n",
       "      <td>Calne</td>\n",
       "      <td>True</td>\n",
       "      <td>en</td>\n",
       "      <td>...</td>\n",
       "      <td>NaN</td>\n",
       "      <td>38.0</td>\n",
       "      <td>8.662321e+17</td>\n",
       "      <td>DrTeckKhong</td>\n",
       "      <td>Sat May 30 16:46:20 +0000 2009</td>\n",
       "      <td>62208.0</td>\n",
       "      <td>4773.0</td>\n",
       "      <td>6282.0</td>\n",
       "      <td>242.0</td>\n",
       "      <td>139670.0</td>\n",
       "    </tr>\n",
       "    <tr>\n",
       "      <th>2</th>\n",
       "      <td>866236815463862272</td>\n",
       "      <td>Sun May 21 10:18:45 +0000 2017</td>\n",
       "      <td>yesterday was th european maritime day today i...</td>\n",
       "      <td>Catherine Bearder🇪🇺 🇺🇦🇺🇦🇪🇺🔶</td>\n",
       "      <td>catherinemep</td>\n",
       "      <td>454779231</td>\n",
       "      <td>Lib Dem. Board of IFAW and Council of Unlock D...</td>\n",
       "      <td>Oxford</td>\n",
       "      <td>True</td>\n",
       "      <td>en</td>\n",
       "      <td>...</td>\n",
       "      <td>NaN</td>\n",
       "      <td>21.0</td>\n",
       "      <td>8.662204e+17</td>\n",
       "      <td>EU_MARE</td>\n",
       "      <td>Wed Jan 04 11:13:08 +0000 2012</td>\n",
       "      <td>2705.0</td>\n",
       "      <td>32987.0</td>\n",
       "      <td>9121.0</td>\n",
       "      <td>677.0</td>\n",
       "      <td>36328.0</td>\n",
       "    </tr>\n",
       "    <tr>\n",
       "      <th>3</th>\n",
       "      <td>866236868404314112</td>\n",
       "      <td>Sun May 21 10:18:57 +0000 2017</td>\n",
       "      <td>thesnp depute leader and candidate for moray a...</td>\n",
       "      <td>Ian Hudghton</td>\n",
       "      <td>HudghtonSNP</td>\n",
       "      <td>308677137</td>\n",
       "      <td>SNP President 2005 - 2020. SNP Member of the E...</td>\n",
       "      <td>Scotland</td>\n",
       "      <td>False</td>\n",
       "      <td>en</td>\n",
       "      <td>...</td>\n",
       "      <td>NaN</td>\n",
       "      <td>6.0</td>\n",
       "      <td>8.662227e+17</td>\n",
       "      <td>erikgeddes</td>\n",
       "      <td>Tue May 31 20:22:38 +0000 2011</td>\n",
       "      <td>21.0</td>\n",
       "      <td>5044.0</td>\n",
       "      <td>398.0</td>\n",
       "      <td>205.0</td>\n",
       "      <td>1789.0</td>\n",
       "    </tr>\n",
       "    <tr>\n",
       "      <th>4</th>\n",
       "      <td>866233710714257408</td>\n",
       "      <td>Sun May 21 10:06:25 +0000 2017</td>\n",
       "      <td>cacophonic that and fox hunting and dementia t...</td>\n",
       "      <td>Catherine Bearder🇪🇺 🇺🇦🇺🇦🇪🇺🔶</td>\n",
       "      <td>catherinemep</td>\n",
       "      <td>454779231</td>\n",
       "      <td>Lib Dem. Board of IFAW and Council of Unlock D...</td>\n",
       "      <td>Oxford</td>\n",
       "      <td>True</td>\n",
       "      <td>en</td>\n",
       "      <td>...</td>\n",
       "      <td>25067514.0</td>\n",
       "      <td>0.0</td>\n",
       "      <td>NaN</td>\n",
       "      <td>NaN</td>\n",
       "      <td>Wed Jan 04 11:13:08 +0000 2012</td>\n",
       "      <td>2705.0</td>\n",
       "      <td>32987.0</td>\n",
       "      <td>9121.0</td>\n",
       "      <td>677.0</td>\n",
       "      <td>36328.0</td>\n",
       "    </tr>\n",
       "  </tbody>\n",
       "</table>\n",
       "<p>5 rows × 25 columns</p>\n",
       "</div>"
      ],
      "text/plain": [
       "                   id                      created_at  \\\n",
       "0  866239077045207040  Sun May 21 10:27:44 +0000 2017   \n",
       "1  866232717196840960  Sun May 21 10:02:28 +0000 2017   \n",
       "2  866236815463862272  Sun May 21 10:18:45 +0000 2017   \n",
       "3  866236868404314112  Sun May 21 10:18:57 +0000 2017   \n",
       "4  866233710714257408  Sun May 21 10:06:25 +0000 2017   \n",
       "\n",
       "                                                text  \\\n",
       "0  pounding the streets of redland this morning w...   \n",
       "1  the ukip battle bus is coming please support m...   \n",
       "2  yesterday was th european maritime day today i...   \n",
       "3  thesnp depute leader and candidate for moray a...   \n",
       "4  cacophonic that and fox hunting and dementia t...   \n",
       "\n",
       "                     user_name user_screen_name    user_id  \\\n",
       "0                 Green💚🌻Molly  GreenPartyMolly  726372601   \n",
       "1            Dr Julia Reid PhD       julia_reid   43554444   \n",
       "2  Catherine Bearder🇪🇺 🇺🇦🇺🇦🇪🇺🔶     catherinemep  454779231   \n",
       "3                 Ian Hudghton      HudghtonSNP  308677137   \n",
       "4  Catherine Bearder🇪🇺 🇺🇦🇺🇦🇪🇺🔶     catherinemep  454779231   \n",
       "\n",
       "                                    user_description user_location  \\\n",
       "0  Molly Scott Cato 👋 Green Party External Comms ...    South West   \n",
       "1  Former Brexit Party MEP for the SW (2014-19) -...         Calne   \n",
       "2  Lib Dem. Board of IFAW and Council of Unlock D...        Oxford   \n",
       "3  SNP President 2005 - 2020. SNP Member of the E...      Scotland   \n",
       "4  Lib Dem. Board of IFAW and Council of Unlock D...        Oxford   \n",
       "\n",
       "  user_verified lang  ... in_reply_to_user_id retweet_count    retweet_id  \\\n",
       "0         False   en  ...                 NaN          23.0  8.662375e+17   \n",
       "1          True   en  ...                 NaN          38.0  8.662321e+17   \n",
       "2          True   en  ...                 NaN          21.0  8.662204e+17   \n",
       "3         False   en  ...                 NaN           6.0  8.662227e+17   \n",
       "4          True   en  ...          25067514.0           0.0           NaN   \n",
       "\n",
       "  retweet_screen_name                 user_created_at  user_favourites_count  \\\n",
       "0          bristol_yg  Mon Jul 30 16:21:34 +0000 2012                27154.0   \n",
       "1         DrTeckKhong  Sat May 30 16:46:20 +0000 2009                62208.0   \n",
       "2             EU_MARE  Wed Jan 04 11:13:08 +0000 2012                 2705.0   \n",
       "3          erikgeddes  Tue May 31 20:22:38 +0000 2011                   21.0   \n",
       "4                 NaN  Wed Jan 04 11:13:08 +0000 2012                 2705.0   \n",
       "\n",
       "   user_followers_count  user_friends_count user_listed_count  \\\n",
       "0               59652.0              1965.0             854.0   \n",
       "1                4773.0              6282.0             242.0   \n",
       "2               32987.0              9121.0             677.0   \n",
       "3                5044.0               398.0             205.0   \n",
       "4               32987.0              9121.0             677.0   \n",
       "\n",
       "  user_statuses_count  \n",
       "0             69671.0  \n",
       "1            139670.0  \n",
       "2             36328.0  \n",
       "3              1789.0  \n",
       "4             36328.0  \n",
       "\n",
       "[5 rows x 25 columns]"
      ]
     },
     "execution_count": 155,
     "metadata": {},
     "output_type": "execute_result"
    }
   ],
   "source": [
    "df.head()"
   ]
  },
  {
   "cell_type": "code",
   "execution_count": null,
   "id": "0d20cea2-0704-455d-8998-32cd122fccb1",
   "metadata": {
    "tags": []
   },
   "outputs": [],
   "source": []
  },
  {
   "cell_type": "code",
   "execution_count": 67,
   "id": "cbe0c280-b69c-4471-a77b-e46ab4d555d5",
   "metadata": {},
   "outputs": [],
   "source": [
    "tv_30docs = TfidfVectorizer(stop_words='english', min_df=30)\n",
    "dtm_tv_30docs = tv_30docs.fit_transform(list(df['text']))"
   ]
  },
  {
   "cell_type": "code",
   "execution_count": 58,
   "id": "5e705bd4-9541-485f-bf0a-bc45ce098871",
   "metadata": {},
   "outputs": [
    {
     "data": {
      "text/plain": [
       "0          pounding the streets of redland this morning w...\n",
       "1          the ukip battle bus is coming please support m...\n",
       "2          yesterday was th european maritime day today i...\n",
       "3          thesnp depute leader and candidate for moray a...\n",
       "4          cacophonic that and fox hunting and dementia t...\n",
       "                                 ...                        \n",
       "3189499    delighted to welcome borisjohnson to clwydwest...\n",
       "3189500    stopped in at the churchill united church for ...\n",
       "3189501                              proest httpstcolhopdtms\n",
       "3189502    fantastic to join isha jp and niaz at their gr...\n",
       "3189503    sandy cove acres is hosting a home show and em...\n",
       "Name: text, Length: 3189504, dtype: object"
      ]
     },
     "execution_count": 58,
     "metadata": {},
     "output_type": "execute_result"
    }
   ],
   "source": [
    "# df.text"
   ]
  },
  {
   "cell_type": "code",
   "execution_count": 194,
   "id": "19f196f8-9e92-4ff7-a161-1eeef0ee5609",
   "metadata": {},
   "outputs": [
    {
     "data": {
      "text/plain": [
       "(3189504, 55266)"
      ]
     },
     "execution_count": 194,
     "metadata": {},
     "output_type": "execute_result"
    }
   ],
   "source": [
    "dtm_tv_30docs.shape\n"
   ]
  },
  {
   "cell_type": "code",
   "execution_count": 22,
   "id": "07d2e5be-b781-474f-8401-a993b488f098",
   "metadata": {},
   "outputs": [],
   "source": [
    "# list_feat_count = []\n",
    "\n",
    "# for i in range(0, 102, 2):\n",
    "#     x = i*1.000\n",
    "#     min_test = x/10000\n",
    "#     tv = TfidfVectorizer(stop_words='english', min_df=min_test)\n",
    "#     dtm_tv = tv.fit_transform(list(df['text']))\n",
    "#     sh = dtm_tv.shape\n",
    "#     tup = (min_test, sh[1])\n",
    "#     list_feat_count.append(tup)\n",
    "  \n",
    "#     print(min_test, '    ', sh)"
   ]
  },
  {
   "cell_type": "code",
   "execution_count": 23,
   "id": "8859ac54-4dc1-49a0-b77b-ca5c968627ef",
   "metadata": {},
   "outputs": [],
   "source": [
    "# list_feat_count\n"
   ]
  },
  {
   "cell_type": "code",
   "execution_count": 24,
   "id": "123ed2a6-d0f4-4e24-9551-c703203cf501",
   "metadata": {},
   "outputs": [
    {
     "data": {
      "text/plain": [
       "pandas.core.series.Series"
      ]
     },
     "execution_count": 24,
     "metadata": {},
     "output_type": "execute_result"
    }
   ],
   "source": [
    "type(df['text'])"
   ]
  },
  {
   "cell_type": "code",
   "execution_count": 25,
   "id": "b11ed441-71de-45d9-be95-c2a5831f5f88",
   "metadata": {},
   "outputs": [],
   "source": [
    "tv_20 = TfidfVectorizer(stop_words='english', min_df=20)\n",
    "dtm_tv_20 = tv_20.fit_transform(list(df['text']))"
   ]
  },
  {
   "cell_type": "code",
   "execution_count": 26,
   "id": "0a671478-7c1a-4df7-a803-548c29726ba7",
   "metadata": {},
   "outputs": [
    {
     "data": {
      "text/plain": [
       "(3189504, 72620)"
      ]
     },
     "execution_count": 26,
     "metadata": {},
     "output_type": "execute_result"
    }
   ],
   "source": [
    "dtm_tv_20.shape"
   ]
  },
  {
   "cell_type": "code",
   "execution_count": 200,
   "id": "d7d11f2f-a15b-4e9e-88bb-432621c35640",
   "metadata": {
    "tags": []
   },
   "outputs": [],
   "source": [
    "feat_20 = list(tv_20.get_feature_names_out())\n",
    "# feat_20"
   ]
  },
  {
   "cell_type": "code",
   "execution_count": null,
   "id": "cae435b3-28fb-4499-a3b6-686dbf35ef7f",
   "metadata": {},
   "outputs": [],
   "source": []
  },
  {
   "cell_type": "code",
   "execution_count": 42,
   "id": "85fc4609-f7cc-4e04-9256-559db0c9ecb6",
   "metadata": {},
   "outputs": [],
   "source": [
    "lsa = TruncatedSVD(10)\n",
    "lsa_20 = lsa.fit_transform(dtm_tv_20)"
   ]
  },
  {
   "cell_type": "code",
   "execution_count": 45,
   "id": "81ec1691-9208-4631-873d-c64514e4c14a",
   "metadata": {},
   "outputs": [
    {
     "data": {
      "text/plain": [
       "(3189504, 10)"
      ]
     },
     "execution_count": 45,
     "metadata": {},
     "output_type": "execute_result"
    }
   ],
   "source": [
    "lsa_20.shape"
   ]
  },
  {
   "cell_type": "code",
   "execution_count": 46,
   "id": "58aff34a-3fad-40b4-9017-a37f9a72ec8a",
   "metadata": {
    "collapsed": true,
    "jupyter": {
     "outputs_hidden": true
    },
    "tags": []
   },
   "outputs": [
    {
     "data": {
      "text/plain": [
       "array([[ 5.69869543e-02,  1.61587579e-02,  7.08848383e-02, ...,\n",
       "        -1.70693279e-02, -2.20676889e-04, -4.49845116e-03],\n",
       "       [ 4.36182220e-02,  7.04707390e-03,  7.76044410e-03, ...,\n",
       "        -1.03588302e-05,  2.03604389e-04, -2.52261359e-02],\n",
       "       [ 7.92515915e-02, -2.97500142e-04,  1.36552853e-02, ...,\n",
       "         1.44965624e-01, -6.76704383e-02,  7.61164472e-02],\n",
       "       ...,\n",
       "       [ 0.00000000e+00,  0.00000000e+00,  0.00000000e+00, ...,\n",
       "         0.00000000e+00,  0.00000000e+00,  0.00000000e+00],\n",
       "       [ 8.87619280e-02,  1.86727074e-02,  7.47421201e-02, ...,\n",
       "         4.05390788e-03,  1.81410635e-02,  1.89861569e-03],\n",
       "       [ 7.09022011e-02,  9.85624337e-03,  5.09395101e-02, ...,\n",
       "        -1.21090324e-02,  1.47829700e-02, -1.19421734e-02]])"
      ]
     },
     "execution_count": 46,
     "metadata": {},
     "output_type": "execute_result"
    }
   ],
   "source": [
    "lsa_20"
   ]
  },
  {
   "cell_type": "code",
   "execution_count": 27,
   "id": "ea41f09a-2963-4d81-9ea1-551f5249d159",
   "metadata": {
    "collapsed": true,
    "jupyter": {
     "outputs_hidden": true
    },
    "tags": []
   },
   "outputs": [
    {
     "data": {
      "text/plain": [
       "array([[ 5.98787838e-04,  1.84037445e-03,  5.90739769e-04, ...,\n",
       "         1.08891602e-03,  1.40450683e-03,  6.33781929e-04],\n",
       "       [ 2.44019592e-05, -3.68943313e-04,  8.14769262e-05, ...,\n",
       "        -2.40485269e-04, -5.88626905e-04, -8.91616552e-05],\n",
       "       [ 2.41419039e-04, -2.21517157e-04,  2.17994725e-04, ...,\n",
       "        -2.71793361e-05, -3.69218474e-04,  3.55272931e-05],\n",
       "       [-8.41239539e-05, -3.46939835e-04, -1.36913369e-04, ...,\n",
       "         6.05024361e-05, -5.56935198e-04, -4.94565852e-05],\n",
       "       [-3.81681831e-05, -1.65599739e-05, -6.56109208e-05, ...,\n",
       "         7.43662327e-05, -8.29066814e-05,  8.90397100e-05]])"
      ]
     },
     "execution_count": 27,
     "metadata": {},
     "output_type": "execute_result"
    }
   ],
   "source": [
    "lsa.components_"
   ]
  },
  {
   "cell_type": "code",
   "execution_count": null,
   "id": "88a95731-9e23-4f77-967d-a458c137be37",
   "metadata": {},
   "outputs": [],
   "source": []
  },
  {
   "cell_type": "code",
   "execution_count": 52,
   "id": "4c67eb18-ac60-4cc4-a93a-b64a9a78d8c1",
   "metadata": {},
   "outputs": [],
   "source": [
    "nmf = NMF(n_components=25, init='random', max_iter=1000)\n",
    "nmf_20 = nmf.fit_transform(dtm_tv_20)"
   ]
  },
  {
   "cell_type": "code",
   "execution_count": 53,
   "id": "470b5e69-35a8-4c50-8568-18c8d1688dd1",
   "metadata": {},
   "outputs": [
    {
     "data": {
      "text/plain": [
       "(3189504, 25)"
      ]
     },
     "execution_count": 53,
     "metadata": {},
     "output_type": "execute_result"
    }
   ],
   "source": [
    "nmf_20.shape\n"
   ]
  },
  {
   "cell_type": "code",
   "execution_count": null,
   "id": "5d70f1c7-d29a-4b39-9513-431d5a61cc08",
   "metadata": {},
   "outputs": [],
   "source": []
  },
  {
   "cell_type": "code",
   "execution_count": 54,
   "id": "a2d77d4d-73c4-4f06-9f29-eed470fe3958",
   "metadata": {
    "id": "TCYg11m_qp8G"
   },
   "outputs": [],
   "source": [
    "# Function to display the top n terms in each topic\n",
    "def display_topics(model, feature_names, no_top_words, topic_names = None): \n",
    "    for ix, topic in enumerate(model.components_):\n",
    "        if not topic_names or not topic_names[ix]:\n",
    "            print(\"\\nTopic \", ix + 1)\n",
    "        else:\n",
    "            print(\"\\nTopic: \", topic_names[ix])\n",
    "        print(\", \".join([feature_names[i]\n",
    "                        for i in topic.argsort()[:-no_top_words - 1:-1]]))\n",
    "    print(\"\\n\")\n",
    "    return model, feature_names, no_top_words"
   ]
  },
  {
   "cell_type": "code",
   "execution_count": 73,
   "id": "2d139863-41d3-42d1-b796-16684ad86d62",
   "metadata": {
    "colab": {
     "base_uri": "https://localhost:8080/"
    },
    "collapsed": true,
    "id": "Q_paAclyX4Ne",
    "jupyter": {
     "outputs_hidden": true
    },
    "outputId": "f9860103-c446-4093-c861-0da7df987533",
    "tags": []
   },
   "outputs": [
    {
     "name": "stdout",
     "output_type": "stream",
     "text": [
      "\n",
      "Topic  1\n",
      "led, ridgesrichmond, alexander_minh, redline, chemicals, infer, respected, myear, heinrich, conormcginn\n",
      "\n",
      "Topic  2\n",
      "jennykaynz, rhonddabryant, rcn, lodges, dia, gerrymander, riverfront, ricos, metaphor, keynotes\n",
      "\n",
      "Topic  3\n",
      "clodaghm_, repwebster, responsiblebusiness, frankscarpitti, jackson, omnibusbill, auxiliary, dijk, rescued, medias\n",
      "\n",
      "Topic  4\n",
      "petrisarvamaa, grantrobertson, newbrunswick, dimitriosgian, carrickmines, bambos, hallways, nfusparliament, evacuating, paranoid\n",
      "\n",
      "Topic  5\n",
      "petteriorpo, evacuating, carrickmines, dalgety, grantrobertson, extensive, nfusparliament, hillelneuer, fergusodowd, fatigue\n",
      "\n",
      "Topic  6\n",
      "enquiries, jerusalem, illegalwildlifetrade, penetrated, evs, departing, hempstead, realterms, invasion, joc\n",
      "\n",
      "Topic  7\n",
      "emphatically, jerusalem, hleisurezone, marvellous, invasion, lissadell, evs, baffles, manifestly, dunphy\n",
      "\n",
      "Topic  8\n",
      "podsaveamerica, ria, adulthood, lame, illegalwildlifetrade, medias, repwebster, favoured, maddie, overspent\n",
      "\n",
      "Topic  9\n",
      "defuse, progressscotland, possil, democracydays, buzzfeed, hanam, pulsemalta, mise, clueless, lame\n",
      "\n",
      "Topic  10\n",
      "euhomeaffairs, barefoot, rhonddabryant, petervdalen, repricklarsen, burner, dijk, brexitfactsbus, baffles, repressive\n",
      "\n",
      "Topic  11\n",
      "lingus, heforshe, reformer, gila, reinvent, petervdalen, invasion, illegitimacy, castlewellan, hempstead\n",
      "\n",
      "Topic  12\n",
      "endhate, pedanteric, preselected, ria, lovedemocracy, cityregion, digs, gerrymander, lavscam, accommodations\n",
      "\n",
      "Topic  13\n",
      "algeria, repwebster, digs, endorses, castletown, dijk, dunstable, mise, machinistsunion, earlscourt\n",
      "\n",
      "Topic  14\n",
      "javedkhanceo, exited, hornsby, britishsteeluk, repwebster, accomplice, camdennj, daysofwalking, buds, katter\n",
      "\n",
      "Topic  15\n",
      "paramedicsonthehill, maddie, blundellsands, flemington, hempstead, eachofus, limp, castlewellan, exited, collars\n",
      "\n",
      "Topic  16\n",
      "glue, mrmatt_robinson, endbsl, gaetz, receptions, hdpdemirtas, clondalkin, furnish, hijabs, myear\n",
      "\n",
      "Topic  17\n",
      "resorted, euparliament, flemington, corkcamogie, maddie, repwebster, certification, alcoholic, castlewellan, penetrated\n",
      "\n",
      "Topic  18\n",
      "evidencebased, bookmarks, immunity, newcastle, abraham, mahoney, alexboulerice, frackfreelancs, nurseryworld, jimeglinski\n",
      "\n",
      "Topic  19\n",
      "driveway, heymp, heyers, respected, ncfc, marvellous, illegitimacy, policymaking, gilded, ew\n",
      "\n",
      "Topic  20\n",
      "benjamin, clueless, pickle, myhnl, ib, pontprennau, betsy, euparliament, iranuprising, mayorofmerton\n",
      "\n",
      "Topic  21\n",
      "cdcs, maddie, penetrated, jerusalem, baffles, communications, din, argentinian, fergusodowd, ria\n",
      "\n",
      "Topic  22\n",
      "fiufootball, corsica, greennewdisaster, hdpdemirtas, pilot, hornsby, redline, pariah, mischiefmakers, marvellous\n",
      "\n",
      "Topic  23\n",
      "playwright, heron, pause, dijk, rhonddabryant, caroloffcbc, officialkillie, britishsteeluk, ria, darrellissa\n",
      "\n",
      "Topic  24\n",
      "martinchungong, metaphor, openly, annmarie, retaliatory, flemington, pittman, gwr, harmonised, outdoor\n",
      "\n",
      "Topic  25\n",
      "recently, groningen, landspackage, iranuprising, mischiefmakers, lame, cycletosyracuse, richarddinatale, pontprennau, clueless\n",
      "\n",
      "\n"
     ]
    }
   ],
   "source": [
    "### YOUR CODE HERE\n",
    "output = display_topics(nmf, tv_20.get_feature_names_out(), 10, topic_names=None)\n",
    "\n",
    "\n",
    "\n",
    "### OUTPUT THE CONTENTS OF THE VARIABLE\n",
    "output;"
   ]
  },
  {
   "cell_type": "code",
   "execution_count": 71,
   "id": "746a2676-1722-4f14-bd6c-fadb44e66b0b",
   "metadata": {},
   "outputs": [],
   "source": [
    "nmf_25topics = NMF(n_components=25, init='random', max_iter=1000)\n",
    "nmf_55kwords_25topics  = nmf_25topics.fit_transform(dtm_tv_30docs)"
   ]
  },
  {
   "cell_type": "code",
   "execution_count": 75,
   "id": "34778cc6-0085-4915-b886-f1f25e3255aa",
   "metadata": {
    "collapsed": true,
    "jupyter": {
     "outputs_hidden": true
    },
    "tags": []
   },
   "outputs": [
    {
     "name": "stdout",
     "output_type": "stream",
     "text": [
      "\n",
      "Topic  1\n",
      "amp, women, families, communities, govt, family, friends, protect, rights, future\n",
      "\n",
      "Topic  2\n",
      "brexit, deal, theresa, says, mays, tory, britain, hard, mps, referendum\n",
      "\n",
      "Topic  3\n",
      "time, long, taking, family, year, come, spend, years, change, hope\n",
      "\n",
      "Topic  4\n",
      "need, dont, know, like, help, want, make, think, let, really\n",
      "\n",
      "Topic  5\n",
      "people, young, american, country, want, million, say, working, lives, disabled\n",
      "\n",
      "Topic  6\n",
      "forward, looking, look, working, seeing, really, meeting, tomorrow, joining, hearing\n",
      "\n",
      "Topic  7\n",
      "thank, kind, service, fans, coming, biggest, leadership, sharing, having, supporting\n",
      "\n",
      "Topic  8\n",
      "congratulations, team, news, best, deserved, proud, fantastic, award, huge, years\n",
      "\n",
      "Topic  9\n",
      "health, care, mental, services, access, insurance, americans, social, public, nhs\n",
      "\n",
      "Topic  10\n",
      "thanks, having, coming, email, kind, hi, sharing, lovely, huge, really\n",
      "\n",
      "Topic  11\n",
      "im, proud, sure, going, sorry, make, thats, glad, ive, afraid\n",
      "\n",
      "Topic  12\n",
      "happy, birthday, year, th, wishing, christmas, family, celebrating, best, wish\n",
      "\n",
      "Topic  13\n",
      "great, news, meet, team, event, hear, local, visit, morning, night\n",
      "\n",
      "Topic  14\n",
      "vote, labour, party, right, mps, parliament, yes, election, tory, mp\n",
      "\n",
      "Topic  15\n",
      "work, hard, important, doing, women, proud, amazing, continue, community, team\n",
      "\n",
      "Topic  16\n",
      "today, years, ago, parliament, meet, remember, women, students, house, visit\n",
      "\n",
      "Topic  17\n",
      "new, year, video, posted, facebook, jobs, zealand, york, report, opening\n",
      "\n",
      "Topic  18\n",
      "pm, live, watch, join, week, th, morning, meeting, community, tomorrow\n",
      "\n",
      "Topic  19\n",
      "support, campaign, proud, help, important, local, funding, community, pleased, delighted\n",
      "\n",
      "Topic  20\n",
      "eu, uk, trade, european, citizens, leave, union, rights, deal, parliament\n",
      "\n",
      "Topic  21\n",
      "read, report, statement, article, worth, important, thread, latest, letter, story\n",
      "\n",
      "Topic  22\n",
      "day, women, world, international, national, st, beautiful, family, womens, remember\n",
      "\n",
      "Topic  23\n",
      "just, like, said, got, ive, say, love, voted, days, isnt\n",
      "\n",
      "Topic  24\n",
      "government, tax, trump, years, families, president, cuts, jobs, pay, act\n",
      "\n",
      "Topic  25\n",
      "good, news, luck, really, morning, hear, point, best, question, friend\n",
      "\n",
      "\n"
     ]
    }
   ],
   "source": [
    "\n",
    "output_55kwords_25topics = display_topics(nmf_25topics, tv_30docs.get_feature_names_out(), 10,\n",
    "                                          topic_names=None)"
   ]
  },
  {
   "cell_type": "code",
   "execution_count": 158,
   "id": "253e88ea-56c5-4b20-b425-1becca4f65fb",
   "metadata": {},
   "outputs": [],
   "source": [
    "import csv\n",
    "\n",
    "# # note: If you use 'b' for the mode, you will get a TypeError\n",
    "# # under Python3. You can just use 'w' for Python 3\n",
    "\n",
    "# with open('ur file.csv','w') as out:\n",
    "#     csv_out=csv.writer(out)\n",
    "#     csv_out.writerow(['min_df value','num features'])\n",
    "#     for row in list_feat_count:\n",
    "#         csv_out.writerow(row)\n",
    "\n",
    "#     # You can also do csv_out.writerows(data) instead of the for loop"
   ]
  },
  {
   "cell_type": "code",
   "execution_count": 131,
   "id": "807b3f46-0053-4bbe-bd5b-4a688d59e774",
   "metadata": {},
   "outputs": [],
   "source": [
    "tv_100docs = TfidfVectorizer(stop_words='english', min_df=100)\n",
    "dtm_tv_100docs = tv_100docs.fit_transform(list(df['text']))"
   ]
  },
  {
   "cell_type": "code",
   "execution_count": 133,
   "id": "9e5143dd-5190-4907-b820-12131cf5261c",
   "metadata": {},
   "outputs": [
    {
     "data": {
      "text/plain": [
       "(3189504, 25285)"
      ]
     },
     "execution_count": 133,
     "metadata": {},
     "output_type": "execute_result"
    }
   ],
   "source": [
    "dtm_tv_100docs.shape"
   ]
  },
  {
   "cell_type": "code",
   "execution_count": 134,
   "id": "7ecd9935-4970-4fa4-b1dd-d4ef84d48b46",
   "metadata": {},
   "outputs": [],
   "source": [
    "nmf_25topics = NMF(n_components=25, init='random', max_iter=1000)\n",
    "nmf_25kwords_25topics  = nmf_25topics.fit_transform(dtm_tv_100docs)"
   ]
  },
  {
   "cell_type": "code",
   "execution_count": 135,
   "id": "df67b948-e923-4407-b392-ed7c41a23114",
   "metadata": {
    "collapsed": true,
    "jupyter": {
     "outputs_hidden": true
    },
    "tags": []
   },
   "outputs": [
    {
     "name": "stdout",
     "output_type": "stream",
     "text": [
      "\n",
      "Topic  1\n",
      "amp, families, communities, govt, family, friends, help, future, jobs, protect\n",
      "\n",
      "Topic  2\n",
      "work, hard, important, doing, proud, amazing, continue, community, team, excellent\n",
      "\n",
      "Topic  3\n",
      "women, right, years, men, ago, country, rights, world, absolutely, violence\n",
      "\n",
      "Topic  4\n",
      "good, luck, news, really, morning, best, hear, point, meet, friend\n",
      "\n",
      "Topic  5\n",
      "vote, labour, party, mps, yes, parliament, election, mp, deal, tory\n",
      "\n",
      "Topic  6\n",
      "forward, looking, look, working, seeing, really, meeting, tomorrow, joining, hearing\n",
      "\n",
      "Topic  7\n",
      "just, like, said, got, ive, say, love, voted, days, isnt\n",
      "\n",
      "Topic  8\n",
      "im, proud, sure, going, sorry, make, thats, glad, afraid, hear\n",
      "\n",
      "Topic  9\n",
      "thanks, having, email, coming, kind, hi, sharing, lovely, huge, hosting\n",
      "\n",
      "Topic  10\n",
      "people, young, american, country, want, million, working, say, lives, disabled\n",
      "\n",
      "Topic  11\n",
      "day, international, world, national, st, beautiful, family, celebrate, busy, remember\n",
      "\n",
      "Topic  12\n",
      "government, tax, read, trump, president, cuts, jobs, families, house, act\n",
      "\n",
      "Topic  13\n",
      "support, campaign, proud, help, local, important, community, pleased, funding, delighted\n",
      "\n",
      "Topic  14\n",
      "eu, uk, trade, european, citizens, leave, union, deal, parliament, rights\n",
      "\n",
      "Topic  15\n",
      "great, news, meet, team, event, hear, local, morning, visit, night\n",
      "\n",
      "Topic  16\n",
      "brexit, deal, theresa, says, mays, britain, tory, hard, referendum, peoplesvote\n",
      "\n",
      "Topic  17\n",
      "happy, birthday, year, th, wishing, christmas, family, celebrating, email, best\n",
      "\n",
      "Topic  18\n",
      "health, care, mental, services, access, public, social, americans, insurance, nhs\n",
      "\n",
      "Topic  19\n",
      "new, year, video, posted, facebook, jobs, zealand, york, report, opening\n",
      "\n",
      "Topic  20\n",
      "thank, kind, service, fans, biggest, week, coming, leadership, supporting, sharing\n",
      "\n",
      "Topic  21\n",
      "today, parliament, meet, ago, meeting, visit, students, house, remember, met\n",
      "\n",
      "Topic  22\n",
      "need, dont, know, like, help, want, think, make, let, really\n",
      "\n",
      "Topic  23\n",
      "pm, live, watch, join, th, morning, week, community, meeting, tonight\n",
      "\n",
      "Topic  24\n",
      "time, long, taking, year, family, come, spend, change, hope, end\n",
      "\n",
      "Topic  25\n",
      "congratulations, team, best, deserved, news, proud, award, fantastic, huge, winning\n",
      "\n",
      "\n"
     ]
    }
   ],
   "source": [
    "\n",
    "output_25kwords_25topics = display_topics(nmf_25topics, tv_100docs.get_feature_names_out(), 10,\n",
    "                                          topic_names=None)"
   ]
  },
  {
   "cell_type": "code",
   "execution_count": 136,
   "id": "67bc0b12-7478-49a2-b922-adbbfd5c4ab1",
   "metadata": {},
   "outputs": [],
   "source": [
    "nmf_50topics = NMF(n_components=50, init='random', max_iter=1000)\n",
    "nmf_55kwords_50topics  = nmf_50topics.fit_transform(dtm_tv_30docs)"
   ]
  },
  {
   "cell_type": "code",
   "execution_count": 137,
   "id": "a692f206-71c9-4adf-a19e-1d954bfb035a",
   "metadata": {
    "collapsed": true,
    "jupyter": {
     "outputs_hidden": true
    },
    "tags": []
   },
   "outputs": [
    {
     "name": "stdout",
     "output_type": "stream",
     "text": [
      "\n",
      "Topic  1\n",
      "amp, govt, families, communities, family, jobs, friends, security, protect, economy\n",
      "\n",
      "Topic  2\n",
      "im, sure, going, sorry, glad, thats, afraid, hear, ive, pleased\n",
      "\n",
      "Topic  3\n",
      "work, hard, doing, continue, amazing, excellent, fantastic, team, lets, ensure\n",
      "\n",
      "Topic  4\n",
      "eu, uk, trade, citizens, leave, union, rights, customs, market, countries\n",
      "\n",
      "Topic  5\n",
      "minister, prime, says, foreign, meeting, ministers, question, said, shadow, trade\n",
      "\n",
      "Topic  6\n",
      "parliament, european, debate, mps, mp, welcome, member, union, speech, event\n",
      "\n",
      "Topic  7\n",
      "vote, peoples, leave, voted, mps, election, voting, referendum, elections, register\n",
      "\n",
      "Topic  8\n",
      "trump, president, house, congress, act, senate, american, law, security, border\n",
      "\n",
      "Topic  9\n",
      "right, absolutely, thing, thats, youre, quite, far, rights, wrong, human\n",
      "\n",
      "Topic  10\n",
      "change, climate, action, real, energy, plan, future, fight, environment, policy\n",
      "\n",
      "Topic  11\n",
      "health, care, mental, services, access, social, insurance, nhs, americans, affordable\n",
      "\n",
      "Topic  12\n",
      "help, office, email, families, home, contact, save, communities, federal, raise\n",
      "\n",
      "Topic  13\n",
      "labour, party, mps, tory, mp, tories, leader, corbyn, members, election\n",
      "\n",
      "Topic  14\n",
      "support, campaign, pleased, delighted, strong, funding, continue, fully, continued, families\n",
      "\n",
      "Topic  15\n",
      "government, federal, funding, uk, shutdown, tory, budget, auspol, reopen, needs\n",
      "\n",
      "Topic  16\n",
      "new, video, posted, facebook, jobs, zealand, york, report, opening, welcome\n",
      "\n",
      "Topic  17\n",
      "thank, kind, service, fans, coming, leadership, sharing, having, biggest, supporting\n",
      "\n",
      "Topic  18\n",
      "read, report, statement, article, worth, latest, thread, letter, story, speech\n",
      "\n",
      "Topic  19\n",
      "local, community, morning, meeting, business, discuss, residents, fantastic, mp, team\n",
      "\n",
      "Topic  20\n",
      "year, old, christmas, million, billion, end, ago, olds, award, bn\n",
      "\n",
      "Topic  21\n",
      "day, international, national, st, beautiful, busy, family, remember, womens, celebrate\n",
      "\n",
      "Topic  22\n",
      "time, long, taking, come, spend, family, end, stop, difficult, theres\n",
      "\n",
      "Topic  23\n",
      "really, hope, enjoyed, hear, think, thats, interesting, sorry, pleased, kind\n",
      "\n",
      "Topic  24\n",
      "dont, know, want, think, let, did, forget, say, miss, youre\n",
      "\n",
      "Topic  25\n",
      "women, men, violence, girls, rights, womens, young, equality, iwd, gender\n",
      "\n",
      "Topic  26\n",
      "live, watch, tune, facebook, hearing, video, debate, ill, speech, follow\n",
      "\n",
      "Topic  27\n",
      "like, looks, look, sounds, id, youd, feel, email, going, doesnt\n",
      "\n",
      "Topic  28\n",
      "great, news, meet, event, team, hear, night, visit, job, evening\n",
      "\n",
      "Topic  29\n",
      "tax, cuts, jobs, families, reform, pay, plan, economy, cut, working\n",
      "\n",
      "Topic  30\n",
      "today, meet, remember, visit, earlier, meeting, ago, discuss, met, celebrate\n",
      "\n",
      "Topic  31\n",
      "need, agree, ensure, stand, action, safety, stop, resources, housing, key\n",
      "\n",
      "Topic  32\n",
      "love, family, hear, friends, sending, thoughts, life, hope, id, sorry\n",
      "\n",
      "Topic  33\n",
      "people, young, american, million, want, working, say, disabled, british, voted\n",
      "\n",
      "Topic  34\n",
      "make, sure, difference, lets, happen, heard, making, youre, working, want\n",
      "\n",
      "Topic  35\n",
      "happy, birthday, wishing, th, christmas, celebrating, family, email, wish, friend\n",
      "\n",
      "Topic  36\n",
      "just, got, ive, said, voted, days, isnt, say, doesnt, going\n",
      "\n",
      "Topic  37\n",
      "forward, looking, look, working, seeing, tomorrow, meeting, joining, hearing, soon\n",
      "\n",
      "Topic  38\n",
      "deal, trade, mays, bad, theresa, mps, leave, say, better, final\n",
      "\n",
      "Topic  39\n",
      "brexit, theresa, says, hard, britain, nodeal, tory, referendum, negotiations, ireland\n",
      "\n",
      "Topic  40\n",
      "important, school, students, public, children, funding, education, schools, high, teachers\n",
      "\n",
      "Topic  41\n",
      "years, ago, service, past, old, ive, remember, lost, months, lives\n",
      "\n",
      "Topic  42\n",
      "proud, team, stand, join, fight, act, cosponsor, amazing, colleagues, congrats\n",
      "\n",
      "Topic  43\n",
      "best, luck, way, wishes, team, wish, wishing, email, doing, congrats\n",
      "\n",
      "Topic  44\n",
      "congratulations, news, deserved, fantastic, huge, team, award, winning, wonderful, winners\n",
      "\n",
      "Topic  45\n",
      "country, world, better, future, service, families, place, canada, life, home\n",
      "\n",
      "Topic  46\n",
      "thanks, having, coming, email, kind, hi, sharing, lovely, hosting, huge\n",
      "\n",
      "Topic  47\n",
      "pm, th, join, come, tonight, tomorrow, open, event, hall, march\n",
      "\n",
      "Topic  48\n",
      "yes, thats, did, email, said, agree, oh, course, say, togetheryes\n",
      "\n",
      "Topic  49\n",
      "good, news, luck, point, question, hear, friend, morning, idea, meet\n",
      "\n",
      "Topic  50\n",
      "week, biggest, fans, reach, twitter, national, mentions, mention, earlier, retweets\n",
      "\n",
      "\n"
     ]
    }
   ],
   "source": [
    "\n",
    "output_55kwords_50topics = display_topics(nmf_50topics, tv_30docs.get_feature_names_out(), 10,\n",
    "                                          topic_names=None)"
   ]
  },
  {
   "cell_type": "code",
   "execution_count": null,
   "id": "63c2979b-345c-4685-93d5-93457acb9566",
   "metadata": {},
   "outputs": [],
   "source": []
  },
  {
   "cell_type": "code",
   "execution_count": null,
   "id": "de1d3195-767f-4b56-b8b5-f2c1885a3db5",
   "metadata": {},
   "outputs": [],
   "source": []
  },
  {
   "cell_type": "code",
   "execution_count": 183,
   "id": "59353c36-6dca-4823-b7e4-fd3f8d5f8b8d",
   "metadata": {},
   "outputs": [],
   "source": [
    "from nltk.stem.snowball import SnowballStemmer\n",
    "snow = SnowballStemmer(language='english')\n",
    "\n",
    "def lemmitize(tweet):\n",
    "    lemmitized = []\n",
    "    words = tweet.split()\n",
    "    lem = ''\n",
    "    for w in words:\n",
    "        l = snow.stem(w)\n",
    "        lem = lem + l + ' '\n",
    "        # lm = lemmitized.join()\n",
    "    return lem"
   ]
  },
  {
   "cell_type": "code",
   "execution_count": 184,
   "id": "a446eb67-8bcf-4ba7-b149-8c2a0c1f9943",
   "metadata": {},
   "outputs": [
    {
     "data": {
      "text/plain": [
       "'pound the street of redland this morn with londonyg great to have them speak to voter in bristol west with us votemolli httpstcongvxwxla '"
      ]
     },
     "execution_count": 184,
     "metadata": {},
     "output_type": "execute_result"
    }
   ],
   "source": [
    "tweet = df.text[0]\n",
    "tweet\n",
    "lemmitize(tweet)"
   ]
  },
  {
   "cell_type": "code",
   "execution_count": 188,
   "id": "2c5fe64b-c616-4907-9483-36f15b1ae572",
   "metadata": {},
   "outputs": [],
   "source": [
    "# df_test['text'] = df_test['text'].apply(lambda x: snow.stem(word) for word in x)\n",
    "df['text_lem'] = df.text.apply(lambda x: lemmitize(x))\n",
    "# df['text']"
   ]
  },
  {
   "cell_type": "code",
   "execution_count": 189,
   "id": "d4d5b6b7-47b9-480a-9616-d1ec69d7e712",
   "metadata": {},
   "outputs": [
    {
     "data": {
      "text/plain": [
       "str"
      ]
     },
     "execution_count": 189,
     "metadata": {},
     "output_type": "execute_result"
    }
   ],
   "source": [
    "type(df['text_lem'][0])"
   ]
  },
  {
   "cell_type": "code",
   "execution_count": null,
   "id": "4345d579-7f69-4d1d-a4a4-6778ddad6726",
   "metadata": {},
   "outputs": [],
   "source": []
  },
  {
   "cell_type": "code",
   "execution_count": 190,
   "id": "3eb38acb-e549-40d2-b230-90628d5455e9",
   "metadata": {},
   "outputs": [],
   "source": [
    "tv_30docs_lem = TfidfVectorizer(stop_words='english', min_df=30)\n",
    "dtm_tv_30docs_lem = tv_30docs_lem.fit_transform(list(df['text_lem']))"
   ]
  },
  {
   "cell_type": "code",
   "execution_count": 191,
   "id": "4e7b132e-99e2-4de1-a291-737d7f8a4526",
   "metadata": {},
   "outputs": [
    {
     "data": {
      "text/plain": [
       "(3189504, 44070)"
      ]
     },
     "execution_count": 191,
     "metadata": {},
     "output_type": "execute_result"
    }
   ],
   "source": [
    "dtm_tv_30docs_lem.shape"
   ]
  },
  {
   "cell_type": "code",
   "execution_count": 192,
   "id": "0aefc293-cd56-4914-adb1-a16936755c5f",
   "metadata": {},
   "outputs": [],
   "source": [
    "nmf_50topics = NMF(n_components=50, init='random', max_iter=1000)\n",
    "nmf_45kwords_lem_50topics  = nmf_50topics.fit_transform(dtm_tv_30docs_lem)"
   ]
  },
  {
   "cell_type": "code",
   "execution_count": 193,
   "id": "55b7f6c1-d43a-48c8-8da9-ba81fd1ecb91",
   "metadata": {
    "tags": []
   },
   "outputs": [
    {
     "name": "stdout",
     "output_type": "stream",
     "text": [
      "\n",
      "Topic  1\n",
      "alifrance, entitled, dioxide, dwyformeirionnydd, melanielatest, contrary, openletterbot, eastyork, freetobeme, funnelled\n",
      "\n",
      "Topic  2\n",
      "sarahjonesmpparliamentuk, inventive, defect, emil, rhiannonv, bruegel_org, geldof, fridaysfuture, sayers, eimear\n",
      "\n",
      "Topic  3\n",
      "keithprinceam, ruthcadbury, reprichardneal, accomplishes, debs, muslimban, pick, memorials, acknowledging, eased\n",
      "\n",
      "Topic  4\n",
      "machinery, seaford, impediments, contempt, alexiholroyd, jack, chop, billwalkermpp, robins, marriage\n",
      "\n",
      "Topic  5\n",
      "bewildered, columeastwood, providence, kellytolhurst, rainbowrose_pes, billmckibben, exacerbate, kurdscampaign, macleans, moedas\n",
      "\n",
      "Topic  6\n",
      "quip, richard_kaputt, lord_bilimoria, amermedicalassn, heathrow, moorefieldgaa, bruegel_org, adolescent, lgfa, fence\n",
      "\n",
      "Topic  7\n",
      "championsleague, impediments, armagh, salmonds, presiding, conducts, banded, fisheriesbill, members, dirklaabs\n",
      "\n",
      "Topic  8\n",
      "mariasherwood, darknessintolight, openletterbot, lees, ourfellowamericans, newshour, charlton, charleston, familesbelongtogether, amansfield\n",
      "\n",
      "Topic  9\n",
      "foreignborn, members, politas, pathetic, divis, emmanuelmacrons, fernando, ruthcadbury, adelaide, perceived\n",
      "\n",
      "Topic  10\n",
      "policeman, borough, members, chathamhouse, pkdebate, eased, comparing, angels, memorials, earrings\n",
      "\n",
      "Topic  11\n",
      "ill, politas, consist, everytown, banking, commemorating, olafscholz, ridley, ext, highstreetsaturday\n",
      "\n",
      "Topic  12\n",
      "epstein, presiding, desjarlaistn, jimpressoffice, richard_kaputt, knockout, gmc, dwyformeirionnydd, alberta_ucp, folder\n",
      "\n",
      "Topic  13\n",
      "rebuildingirl, mccarthyism, kaczynski, alexiholroyd, persevere, melanielatest, obstructionism, chop, champs, acs_localshops\n",
      "\n",
      "Topic  14\n",
      "saveschoolsuk, exacerbate, qz, chathamhouse, debs, presiding, dioxide, aldi_ireland, members, savesthospital\n",
      "\n",
      "Topic  15\n",
      "colleges, desperation, ftbrussels, bruegel_org, amidst, perpetrators, pennysharpemlc, lgfa, ayatollahs, sayers\n",
      "\n",
      "Topic  16\n",
      "pwd, hrds, paypinch, impediments, pick, cronin, davidlammys, bachelet, rms, gedkearney\n",
      "\n",
      "Topic  17\n",
      "kevinhollinrakempparliamentuk, masterpiececakeshop, revolting, dictating, lgfa, gmc, sediment, amermedicalassn, sdoh, heathrow\n",
      "\n",
      "Topic  18\n",
      "rother, lord_bilimoria, richard_kaputt, directions, barnstaple, inviting, dpcarrington, bluffs, mise, perpetrators\n",
      "\n",
      "Topic  19\n",
      "holloway, patmcfaddenmp, httpstcocntltdghckathttpstcojppyanjnb, dispel, inviting, mysteries, foes, mise, redistricting, seacroft\n",
      "\n",
      "Topic  20\n",
      "factfinding, dioxide, romford, reused, lees, cosla, feeder, rightholders, mikhail, northayrshire\n",
      "\n",
      "Topic  21\n",
      "interrupts, contrary, mariawalsheu, jimpressoffice, invade, dearly, est, meathleo, charleston, scrupulously\n",
      "\n",
      "Topic  22\n",
      "forthebeaches, gatwick, contrary, misses, pows, ruthcadbury, comedian, mikhail, cwmbran, petermurrell\n",
      "\n",
      "Topic  23\n",
      "ensuring, eased, dismemberment, oss, blast, refused, marcusfysh, arc, mustread, funnelled\n",
      "\n",
      "Topic  24\n",
      "horizons, rohingya, northayrshire, recover, dictating, comedian, httpstcovtnoqfjphp, dpcarrington, pause, revolting\n",
      "\n",
      "Topic  25\n",
      "ceases, gopackgo, marjorie, profiteering, radical, radius, desjarlaistn, fernando, lgfa, pows\n",
      "\n",
      "Topic  26\n",
      "fiction, lotto, cemetery, offer, rxsummit, adding, feeder, accompanying, dossier, cemented\n",
      "\n",
      "Topic  27\n",
      "dementiafriend, refused, raring, henrymance, columeastwood, deptofdefense, candles, repbarbaralee, chop, adopters\n",
      "\n",
      "Topic  28\n",
      "exservicemen, pathetic, cemented, jimpressoffice, pulled, pigs, rohingya, robins, recover, offer\n",
      "\n",
      "Topic  29\n",
      "jagger, mcmillan, michaelroddan, antoni_uk, amikageorge, dreamdearg, roundtable, boiled, bosss, mustread\n",
      "\n",
      "Topic  30\n",
      "huffpostukpol, dioxide, dwyformeirionnydd, pulled, ohalloran, fernando, maverick, camilla, hogwash, alberta_ucp\n",
      "\n",
      "Topic  31\n",
      "gravesham, enriquecalvet, perpetrators, nik, gedkearney, amidst, garyyounge, aylesford, bachelet, psychoactive\n",
      "\n",
      "Topic  32\n",
      "everywoman, battalions, samsachdevanz, bruegel_org, profiteering, dessert, dwyformeirionnydd, dioxide, camilla, banded\n",
      "\n",
      "Topic  33\n",
      "exposes, branson, investor, omars, abundance, jack, cadem, menzies, frodsham, adding\n",
      "\n",
      "Topic  34\n",
      "engagements, hurry, jimpressoffice, misses, gmc, markprotheroe, dwyformeirionnydd, michaelroddan, folder, fernando\n",
      "\n",
      "Topic  35\n",
      "nowadays, planaplus, cwmbran, eased, cadem, familyseparation, presidente, menzies, richard_kaputt, mcmafia\n",
      "\n",
      "Topic  36\n",
      "scrambling, adolescent, ovarian, lemonade, bruegel_org, louie, jack, impediments, desperation, jews\n",
      "\n",
      "Topic  37\n",
      "centrepiece, housedems, bluffs, omars, paladin, bruxelles, chisinau, mushrooms, bruegel_org, armagh\n",
      "\n",
      "Topic  38\n",
      "retrofits, members, banded, roundtable, haircut, samsachdevanz, nicolasturgeon, rebranding, determining, caribou\n",
      "\n",
      "Topic  39\n",
      "hanged, cotton, robins, psychologically, highstreetsaturday, ruthcadbury, conservativeled, drilled, jammed, misses\n",
      "\n",
      "Topic  40\n",
      "norwalk, psychoactive, dkshrewsbury, mthistlethwaite, facilitator, joellightbound, conservativeled, marles, nik, columeastwood\n",
      "\n",
      "Topic  41\n",
      "prek, clickbait, gmc, dioxide, lucberthold, marcusfysh, alexiholroyd, mohamed, bluffs, curated\n",
      "\n",
      "Topic  42\n",
      "adoptdontshop, ramifications, columeastwood, certificates, newshour, abortions, scroll, nik, markprotheroe, fernando\n",
      "\n",
      "Topic  43\n",
      "nationaldemocracyweek, fitzgibbon, abortions, melanielatest, psychoactive, divis, savesthospital, candles, perceived, cao\n",
      "\n",
      "Topic  44\n",
      "kickstart, dirklaabs, deterioration, auschamber, dimension, roundtable, bikers, nicolasturgeon, bestowed, pulled\n",
      "\n",
      "Topic  45\n",
      "harriet, lornecoempp, rainbowrose_pes, damianchristie, john_mills_jml, characteristically, joellightbound, marriage, borough, invade\n",
      "\n",
      "Topic  46\n",
      "mishandled, mthistlethwaite, persistent, scarves, anticipate, pigs, pulsefishing, behaving, hearted, hiking\n",
      "\n",
      "Topic  47\n",
      "rightwing, columeastwood, henrymance, damianchristie, lord_bilimoria, john_mills_jml, scroll, alexbozikovic, monumental, moedas\n",
      "\n",
      "Topic  48\n",
      "bunbury, carmarthenshire, sayers, accomplishes, romford, marcusfysh, misperton, marple, divis, eastyork\n",
      "\n",
      "Topic  49\n",
      "progressed, haircut, dessert, impediments, angels, furthering, openletterbot, omars, fha, richard_kaputt\n",
      "\n",
      "Topic  50\n",
      "httpstcocntltdghckathttpstcojppyanjnb, dropinderjit, radical, roundtable, misses, romford, pastry, desjarlaistn, radius, chathamhouse\n",
      "\n",
      "\n"
     ]
    }
   ],
   "source": [
    "output_45kwords_lem_50topics = display_topics(nmf_50topics, tv_30docs.get_feature_names_out(), 10,\n",
    "                                          topic_names=None)"
   ]
  },
  {
   "cell_type": "code",
   "execution_count": 195,
   "id": "4580630b-efe6-4a70-8d48-e4d882720dd8",
   "metadata": {},
   "outputs": [],
   "source": [
    "nmf_75topics = NMF(n_components=75, init='random', max_iter=1000)\n",
    "nmf_55kwords_75topics  = nmf_75topics.fit_transform(dtm_tv_30docs)"
   ]
  },
  {
   "cell_type": "code",
   "execution_count": 196,
   "id": "ba4fba88-6964-4a89-be29-7665c78db99b",
   "metadata": {
    "collapsed": true,
    "jupyter": {
     "outputs_hidden": true
    },
    "tags": []
   },
   "outputs": [
    {
     "name": "stdout",
     "output_type": "stream",
     "text": [
      "\n",
      "Topic  1\n",
      "country, service, veterans, honor, communities, families, lives, nation, serve, served\n",
      "\n",
      "Topic  2\n",
      "way, long, leading, come, start, life, theres, end, step, lead\n",
      "\n",
      "Topic  3\n",
      "amp, govt, security, communities, families, food, st, social, continue, protect\n",
      "\n",
      "Topic  4\n",
      "help, families, save, federal, rt, communities, raise, lives, veterans, needs\n",
      "\n",
      "Topic  5\n",
      "health, care, mental, services, access, social, insurance, americans, nhs, affordable\n",
      "\n",
      "Topic  6\n",
      "great, event, night, job, visit, meeting, discussion, evening, initiative, catch\n",
      "\n",
      "Topic  7\n",
      "people, young, american, million, disabled, british, voted, lives, say, living\n",
      "\n",
      "Topic  8\n",
      "school, students, children, public, education, schools, funding, high, teachers, parents\n",
      "\n",
      "Topic  9\n",
      "trump, president, administration, congress, american, trumps, border, security, national, donald\n",
      "\n",
      "Topic  10\n",
      "work, hard, doing, continue, excellent, amazing, lets, pay, ensure, staff\n",
      "\n",
      "Topic  11\n",
      "vote, peoples, leave, election, mps, voted, voting, referendum, elections, register\n",
      "\n",
      "Topic  12\n",
      "eu, leave, citizens, leaving, europe, member, withdrawal, referendum, european, countries\n",
      "\n",
      "Topic  13\n",
      "new, video, posted, facebook, zealand, york, report, opening, homes, housing\n",
      "\n",
      "Topic  14\n",
      "know, did, let, didnt, count, doesnt, youre, educator, letting, does\n",
      "\n",
      "Topic  15\n",
      "really, enjoyed, interesting, pleased, appreciate, think, kind, does, sorry, meeting\n",
      "\n",
      "Topic  16\n",
      "rights, human, law, fight, workers, protect, citizens, stand, civil, womens\n",
      "\n",
      "Topic  17\n",
      "labour, party, mps, tory, mp, tories, leader, corbyn, members, election\n",
      "\n",
      "Topic  18\n",
      "just, got, voted, ive, days, isnt, doesnt, left, finished, saying\n",
      "\n",
      "Topic  19\n",
      "week, biggest, fans, reach, national, twitter, mentions, mention, retweets, earlier\n",
      "\n",
      "Topic  20\n",
      "good, luck, point, question, friend, idea, friday, agreement, job, catch\n",
      "\n",
      "Topic  21\n",
      "brexit, theresa, britain, hard, nodeal, tory, referendum, negotiations, british, ireland\n",
      "\n",
      "Topic  22\n",
      "government, federal, funding, shutdown, tory, budget, auspol, reopen, end, needs\n",
      "\n",
      "Topic  23\n",
      "year, old, christmas, million, billion, end, ago, olds, award, bn\n",
      "\n",
      "Topic  24\n",
      "hear, family, friends, sorry, thoughts, prayers, sad, families, condolences, life\n",
      "\n",
      "Topic  25\n",
      "congratulations, deserved, huge, award, winning, winners, win, achievement, wonderful, awards\n",
      "\n",
      "Topic  26\n",
      "better, future, deserve, place, think, life, things, build, europe, getting\n",
      "\n",
      "Topic  27\n",
      "today, meeting, remember, earlier, ago, met, visit, celebrate, discuss, honor\n",
      "\n",
      "Topic  28\n",
      "best, luck, wishes, wish, wishing, doing, ive, congrats, possible, future\n",
      "\n",
      "Topic  29\n",
      "want, say, doesnt, come, stay, leave, didnt, does, share, sign\n",
      "\n",
      "Topic  30\n",
      "working, families, hard, look, class, continue, ensure, children, middle, communities\n",
      "\n",
      "Topic  31\n",
      "thats, kind, true, point, think, exactly, say, ive, oh, plan\n",
      "\n",
      "Topic  32\n",
      "forward, looking, look, seeing, tomorrow, meeting, joining, hearing, welcoming, event\n",
      "\n",
      "Topic  33\n",
      "welcome, youre, warm, delighted, home, pleased, pleasure, libdems, visit, announcement\n",
      "\n",
      "Topic  34\n",
      "going, youre, whats, think, stop, big, isnt, come, theyre, theres\n",
      "\n",
      "Topic  35\n",
      "thanks, having, coming, kind, sharing, hosting, huge, stopping, came, hi\n",
      "\n",
      "Topic  36\n",
      "tax, cuts, reform, pay, plan, cut, families, americans, budget, taxes\n",
      "\n",
      "Topic  37\n",
      "meet, team, fantastic, pleasure, brilliant, lovely, discuss, amazing, visit, wonderful\n",
      "\n",
      "Topic  38\n",
      "need, ensure, action, stand, safety, stop, resources, housing, key, net\n",
      "\n",
      "Topic  39\n",
      "like, looks, look, sounds, id, youd, feel, doesnt, feels, lot\n",
      "\n",
      "Topic  40\n",
      "deal, mays, bad, theresa, mps, leave, voted, final, pms, option\n",
      "\n",
      "Topic  41\n",
      "live, tune, facebook, ill, follow, join, listen, discuss, questions, joining\n",
      "\n",
      "Topic  42\n",
      "women, men, violence, girls, womens, young, iwd, gender, pay, brave\n",
      "\n",
      "Topic  43\n",
      "hope, lets, soon, youre, join, ok, enjoy, enjoyed, christmas, youll\n",
      "\n",
      "Topic  44\n",
      "proud, stand, join, cosponsor, colleagues, fight, act, friend, congrats, legislation\n",
      "\n",
      "Topic  45\n",
      "agree, totally, rt, completely, absolutely, needs, retweet, fully, share, sign\n",
      "\n",
      "Topic  46\n",
      "says, mp, report, hes, theresa, police, needs, govt, doesnt, does\n",
      "\n",
      "Topic  47\n",
      "change, climate, action, real, plan, energy, policy, fight, environment, future\n",
      "\n",
      "Topic  48\n",
      "said, say, did, ive, didnt, asked, actually, thing, times, yesterday\n",
      "\n",
      "Topic  49\n",
      "day, international, national, st, beautiful, busy, celebrate, remember, big, independence\n",
      "\n",
      "Topic  50\n",
      "happy, birthday, wishing, th, christmas, celebrating, wish, friend, celebrate, thanksgiving\n",
      "\n",
      "Topic  51\n",
      "im, sure, sorry, glad, afraid, ive, pleased, grateful, doing, supporting\n",
      "\n",
      "Topic  52\n",
      "local, community, mp, residents, council, services, communities, centre, elections, meeting\n",
      "\n",
      "Topic  53\n",
      "watch, debate, video, speech, hearing, todays, interview, committee, floor, facebook\n",
      "\n",
      "Topic  54\n",
      "jobs, economy, business, businesses, small, create, workers, growth, million, economic\n",
      "\n",
      "Topic  55\n",
      "dont, think, forget, miss, believe, understand, worry, tell, say, youre\n",
      "\n",
      "Topic  56\n",
      "house, senate, act, commons, passed, white, committee, floor, congress, legislation\n",
      "\n",
      "Topic  57\n",
      "years, ago, service, past, old, remember, ive, lost, months, lives\n",
      "\n",
      "Topic  58\n",
      "right, absolutely, thing, quite, youre, far, wrong, doing, left, direction\n",
      "\n",
      "Topic  59\n",
      "news, excellent, bbc, fake, fantastic, sad, brilliant, breaking, bad, big\n",
      "\n",
      "Topic  60\n",
      "make, sure, difference, lets, happen, heard, making, voice, easier, decisions\n",
      "\n",
      "Topic  61\n",
      "support, campaign, pleased, delighted, funding, strong, fully, continue, continued, appreciate\n",
      "\n",
      "Topic  62\n",
      "trade, free, union, customs, market, agreement, deals, policy, single, international\n",
      "\n",
      "Topic  63\n",
      "time, long, taking, spend, come, end, stop, past, theres, difficult\n",
      "\n",
      "Topic  64\n",
      "office, email, home, details, ill, hi, contact, send, drop, address\n",
      "\n",
      "Topic  65\n",
      "parliament, european, debate, mps, mp, member, event, union, europe, elections\n",
      "\n",
      "Topic  66\n",
      "uk, scotland, govt, ireland, citizens, gov, bn, british, market, scottish\n",
      "\n",
      "Topic  67\n",
      "thank, kind, service, fans, coming, sharing, leadership, having, biggest, supporting\n",
      "\n",
      "Topic  68\n",
      "read, report, statement, article, worth, thread, latest, letter, story, speech\n",
      "\n",
      "Topic  69\n",
      "yes, did, oh, course, togetheryes, absolutely, say, voted, answer, voting\n",
      "\n",
      "Topic  70\n",
      "pm, th, join, tonight, come, tomorrow, open, event, hall, march\n",
      "\n",
      "Topic  71\n",
      "important, issue, issues, step, debate, role, count, public, discuss, legislation\n",
      "\n",
      "Topic  72\n",
      "love, sending, id, come, hate, life, amazing, beautiful, lots, wonderful\n",
      "\n",
      "Topic  73\n",
      "world, war, cup, canada, place, global, countries, rest, peace, europe\n",
      "\n",
      "Topic  74\n",
      "minister, prime, meeting, foreign, ministers, question, statement, shadow, affairs, asked\n",
      "\n",
      "Topic  75\n",
      "morning, meeting, discuss, tomorrow, coffee, early, talking, issues, breakfast, beautiful\n",
      "\n",
      "\n"
     ]
    }
   ],
   "source": [
    "output_55kwords_75topics = display_topics(nmf_75topics, tv_30docs.get_feature_names_out(), 10,\n",
    "                                          topic_names=None)"
   ]
  },
  {
   "cell_type": "code",
   "execution_count": 198,
   "id": "5cb4232f-8338-47cc-b2eb-65f8a78e50c2",
   "metadata": {},
   "outputs": [
    {
     "data": {
      "text/plain": [
       "numpy.ndarray"
      ]
     },
     "execution_count": 198,
     "metadata": {},
     "output_type": "execute_result"
    }
   ],
   "source": [
    "type(output_55kwords_75topics[1])"
   ]
  },
  {
   "cell_type": "code",
   "execution_count": null,
   "id": "67225fae-78c0-4e9a-915d-cce8cc4f4d96",
   "metadata": {},
   "outputs": [],
   "source": []
  },
  {
   "cell_type": "code",
   "execution_count": null,
   "id": "320300ca-1fad-421b-8178-c36b95891869",
   "metadata": {},
   "outputs": [],
   "source": []
  },
  {
   "cell_type": "code",
   "execution_count": null,
   "id": "497539ca-063e-4cf6-9db5-fb636886a8c6",
   "metadata": {},
   "outputs": [],
   "source": []
  }
 ],
 "metadata": {
  "kernelspec": {
   "display_name": "Python 3 (ipykernel)",
   "language": "python",
   "name": "python3"
  },
  "language_info": {
   "codemirror_mode": {
    "name": "ipython",
    "version": 3
   },
   "file_extension": ".py",
   "mimetype": "text/x-python",
   "name": "python",
   "nbconvert_exporter": "python",
   "pygments_lexer": "ipython3",
   "version": "3.9.12"
  }
 },
 "nbformat": 4,
 "nbformat_minor": 5
}
